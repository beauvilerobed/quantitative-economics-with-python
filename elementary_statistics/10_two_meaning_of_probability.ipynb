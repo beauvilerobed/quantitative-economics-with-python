{
 "cells": [
  {
   "cell_type": "markdown",
   "metadata": {},
   "source": [
    "# TWO MEANINGS OF PROBABILITY\n",
    "\n",
    "# Content\n",
    "- a frequentist confidence interval  \n",
    "- a Bayesian coverage interval  \n",
    "\n",
    "## Overview\n",
    "\n",
    "This notebook illustrates two distinct interpretations of a **probability distribution**\n",
    "- A frequentist interpretation as **relative frequencies** anticipated to occur in a large i.i.d. sample  \n",
    "- A Bayesian interpretation as a **personal opinion** (about a parameter or list of parameters) after seeing a collection of observations  \n",
    "\n",
    "We do this  by inviting you to  write some  Python code.\n",
    "\n",
    "It would be especially useful if you tried doing this after each question that we pose for you. We provide our own answers as the notebook unfolds, but you’ll learn more if you try writing your own code before reading and running ours.\n",
    "\n",
    "**Code for answering questions:**\n",
    "\n",
    "This notebook will deploy the following library:"
   ]
  },
  {
   "cell_type": "code",
   "execution_count": 2,
   "metadata": {},
   "outputs": [],
   "source": [
    "import numpy as np\n",
    "import pandas as pd\n",
    "import prettytable as pt\n",
    "import matplotlib.pyplot as plt\n",
    "from scipy.stats import binom\n",
    "import scipy.stats as st"
   ]
  },
  {
   "cell_type": "markdown",
   "metadata": {},
   "source": [
    "## Frequentist Interpretation\n",
    "\n",
    "Consider the following classic example. The random variable  $ X $ takes on possible values $ k = 0, 1, 2, \\ldots, n $  with probabilties\n",
    "\n",
    "$$\n",
    "\\textrm{Prob}(X =  k | \\theta) =\n",
    "\\left(\\frac{n!}{k! (n-k)!} \\right) \\theta^k (1-\\theta)^{n-k}\n",
    "$$\n",
    "\n",
    "where the fixed parameter $ \\theta \\in (0,1) $. This is called   the **binomial distribution**.\n",
    "\n",
    "Here\n",
    "- $ \\theta $ is the probability that one toss of a coin will be a head, an outcome that we encode as  $ Y = 1 $.  \n",
    "- $ 1 -\\theta $ is the probability that one toss of the coin will be a tail, an outcome that we denote $ Y = 0 $.  \n",
    "- $ X $ is the total number of heads that came up after flipping the coin $ n $ times.  \n",
    "\n",
    "\n",
    "Consider the following experiment: Take $ I $ **independent** sequences of $ n $  **independent** flips of the coin. Notice the repeated use of the adjective **independent**:\n",
    "- we use it once to describe that we are drawing $ n $ independent times from a **Bernoulli** distribution with parameter $ \\theta $ to arrive at one draw from a **Binomial** distribution with parameters\n",
    "  $ \\theta,n $.  \n",
    "- we use it again to describe that we are then drawing $ I $  sequences of $ n $ coin draws.  \n",
    "\n",
    "\n",
    "Let $ y_h^i \\in \\{0, 1\\} $ be the realized value of $ Y $ on the $ h $ th flip during the $ i $ th sequence of flips. Let $ \\sum_{h=1}^n y_h^i $ denote the total number of times  heads come up during the $ i $ th sequence of $ n $ independent coin flips. Let $ f_k $ record the fraction of samples of length $ n $ for which $ \\sum_{h=1}^n y_h^i = k $:\n",
    "\n",
    "$$\n",
    "f_k^I = \\frac{\\textrm{number of samples of length n for which } \\sum_{h=1}^n y_h^i = k}{\n",
    "    I}\n",
    "$$\n",
    "\n",
    "The probability  $ \\textrm{Prob}(X =  k | \\theta) $ answers the following question:\n",
    "- As $ I $ becomes large, in what   fraction of  $ I $ independent  draws of  $ n $ coin flips should we anticipate  $ k $ heads to occur?  \n",
    "\n",
    "\n",
    "As usual, a law of large numbers justifies this answer.\n",
    "## Exercise 10.1\n",
    "\n",
    "1. Please write a Python class to compute $ f_k^I $  \n",
    "1. Please use your code to compute $ f_k^I, k = 0, \\ldots , n $ and compare them to\n",
    "  $ \\textrm{Prob}(X =  k | \\theta) $ for various values of $ \\theta, n $ and $ I $  \n",
    "1. With the Law of Large numbers in mind, use your code to say something  "
   ]
  },
  {
   "cell_type": "code",
   "execution_count": null,
   "metadata": {},
   "outputs": [],
   "source": []
  }
 ],
 "metadata": {
  "kernelspec": {
   "display_name": "Python 3",
   "language": "python",
   "name": "python3"
  },
  "language_info": {
   "codemirror_mode": {
    "name": "ipython",
    "version": 3
   },
   "file_extension": ".py",
   "mimetype": "text/x-python",
   "name": "python",
   "nbconvert_exporter": "python",
   "pygments_lexer": "ipython3",
   "version": "3.7.0"
  }
 },
 "nbformat": 4,
 "nbformat_minor": 2
}
