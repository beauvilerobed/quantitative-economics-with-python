{
 "cells": [
  {
   "cell_type": "markdown",
   "metadata": {},
   "source": [
    "# LINEAR ALGEBRA\n",
    "\n",
    "# Contents\n",
    "- Linear Algebra\n",
    "    - Overview\n",
    "    - Vectors\n",
    "    - Matrices\n",
    "    - Solving Systems of Equations\n",
    "    - Eigenvalues and Eigenvectors\n",
    "    - Further Topics\n",
    "    - Exercises\n",
    "\n",
    "\n",
    "## Overview\n",
    "Linear algebra is one of the most useful branches of applied mathematics for economists to invest in.\n",
    "\n",
    "For example, many applied problems in economics and finance require the solution of a linear system of equations, such as\n",
    "\n",
    "$$\n",
    "y_1 = ax_1+bx_2\\\\\n",
    "y_2 = cx_1+dx_2\\\\\n",
    "$$\n",
    "\n",
    "or, more generally,\n",
    "\n",
    "<a id='system-of-equations'></a>\n",
    "$$\n",
    "\\begin{aligned}\n",
    "y_1 = a_{11}x_1+a_{12}x_2+\\dots+a_{1k}x_k\\\\\n",
    "\\vdots\\\\\n",
    "y_n = a_{n1}x_1+a_{n2}x_2+\\dots+a_{nk}x_k\\\\\n",
    "\\end{aligned}\\tag{2.1}\n",
    "$$\n",
    "\n",
    "The objective here is to solve for the “unknowns” $x_1,\\dots,x_k$ given $a_{11},\\dots,a_{nk}$ and $y_1,\\dots,y_n$. When considering such problems, it is essential that we first consider at least some of the following questions\n",
    "- Does a solution actually exist?\n",
    "- Are there in fact many solutions, and if so how should we interpret them?\n",
    "- If no solution exists, is there a best “approximate” solution?\n",
    "- If a solution exists, how should we compute it?\n",
    "\n",
    "These are the kinds of topics addressed by linear algebra. We will cover the basics of linear and matrix algebra, treating both theory and computation.\n",
    "\n",
    "Let’s start with some imports:"
   ]
  },
  {
   "cell_type": "code",
   "execution_count": null,
   "metadata": {},
   "outputs": [],
   "source": [
    "import matplotlib.pyplot as plt\n",
    "import numpy as np\n",
    "from matplotlib import cm\n",
    "from mpl_toolkits.mplot3d import Axes3D\n",
    "from scipy.linalg import inv, solve, det, eig\n",
    "\n",
    "plt.rcParams[\"figure.figsize\"] = (11, 5)  #set default figure size"
   ]
  },
  {
   "cell_type": "markdown",
   "metadata": {},
   "source": [
    "## Vectors\n",
    "\n",
    "A vector of length $n$ is just a sequence (or array, or tuple) of $n$ numbers, which we write as $x=(x_1,\\dots,x_n)$ or $x=[x_1,\\dots,x_n]$ \n",
    "\n",
    "We will write these sequences either horizontally or vertically as we please. (Later, when we wish to perform certain matrix operations, it will become necessary to distinguish between the two). The set of all $n$-vectors is denoted by $\\R^n$"
   ]
  },
  {
   "cell_type": "markdown",
   "metadata": {},
   "source": []
  }
 ],
 "metadata": {
  "kernelspec": {
   "display_name": "Python 3",
   "language": "python",
   "name": "python3"
  },
  "language_info": {
   "codemirror_mode": {
    "name": "ipython",
    "version": 3
   },
   "file_extension": ".py",
   "mimetype": "text/x-python",
   "name": "python",
   "nbconvert_exporter": "python",
   "pygments_lexer": "ipython3",
   "version": "3.7.0"
  }
 },
 "nbformat": 4,
 "nbformat_minor": 2
}
