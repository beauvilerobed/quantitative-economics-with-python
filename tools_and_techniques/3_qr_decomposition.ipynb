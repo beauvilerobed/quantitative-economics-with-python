{
 "cells": [
  {
   "cell_type": "markdown",
   "metadata": {},
   "source": [
    "# QR DECOMPOSITION\n",
    "\n",
    "# Content\n",
    "QR Decomposition\n",
    "- Orthogonal projection and least squares\n",
    "- A Gram-Schmidt process\n",
    "- Eigenvalues and eigenvectors\n",
    "\n",
    "## Overview\n",
    "\n",
    "This notebook describes the QR decomposition and how it relates to\n",
    "- Orthogonal projection and least squares\n",
    "- A Gram-Schmidt process\n",
    "- Eigenvalues and eigenvectors\n",
    "\n",
    "We’ll write some Python code to help consolidate our understandings.\n",
    "\n",
    "## Matrix Factorization\n",
    "\n",
    "The QR decomposition (also called the QR factorization) of a matrix is a decomposition of a matrix into the product of an orthogonal matrix and a triangular matrix. A QR decomposition of a real matrix $A$ takes the form\n",
    "$$\n",
    "A = QR\n",
    "$$\n",
    "where\n",
    "- $Q$ is an orthogonal matrix (so that $Q^TQ=I$)\n",
    "- $R$ is an upper triangular matrix\n",
    "\n",
    "We’ll use a **Gram-Schmidt process** to compute a QR decomposition.\n",
    "\n",
    "## Gram-Schmidt process\n",
    "\n",
    "We’ll start with a **square** matrix $A$. If a square matrix $A$ is nonsingular, then a $QR$ factorization is unique. We’ll deal with a rectangular matrix $A$ later. Actually, the algorithm will work with a rectangular $A$ that is not square."
   ]
  },
  {
   "cell_type": "markdown",
   "metadata": {},
   "source": [
    "### Gram-Schmidt process for square $A$\n",
    "\n",
    "Here we apply a Gram-Schmidt process to the **columns** of matrix $A$. In particular, let\n",
    "$$\n",
    "A = [a_1|a_2|\\dots|a_n]\n",
    "$$\n",
    "Let $\\Vert\\dot\\Vert$ denote the L2 norm. The Gram-Schmidt algorithm repeatedly combines the following two steps in a particular order\n",
    "- **normalize** a vector to have unit norm\n",
    "- **orthogonalize** the next vector\n",
    "\n",
    "To begin, we set $u_1 = a_1$ and then **normalize**:\n",
    "$$\n",
    "u_1 = a_1,\\text{ } e_1 = \\frac{u_1}{\\Vert u_1\\Vert}\n",
    "$$\n",
    "We **orgonalize** first to compute $u_2$ and then **normalize** to create $e_2$:\n",
    "$$\n",
    "u_2 = a_2 - (a_2\\cdot e_1)e_1,\\text{ } e_2 = \\frac{u_2}{\\Vert u_2\\Vert}\n",
    "$$\n",
    "We invite the reader to verify that $e_1\\cdot e_2 = 0$, hence orthogonal. The Gram-Schmidt procedure continues iterating. Thus, for $k=2,\\dots,n-1$ we construct\n",
    "$$\n",
    "u_2 = a_{k+1} - (a_{k+1}\\cdot e_1)e_1 -\\dots-(a_{k+1}\\cdot e_k)e_k,\\text{ } e_{k+1} = \\frac{u_{k+1}}{\\Vert u_{k+1}\\Vert}\n",
    "$$\n",
    "\n",
    "Here $(a_j\\cdot e_i)$ can be interpreted as the linear least squares **regression coefficient** of $a_j$ on $e_i$\n",
    "\n",
    "- it is the inner product of $a_j$ on $e_i$ divided by the inner product of $e_i$ where $e_i\\cdot e_i = 1$, as *normalization* has assured us.\n",
    "- this regression coefficient has an interpretation as being a **covariance** divided by a **variance**\n",
    "\n",
    "It can be verified that\n",
    "$$\n",
    "A = [a_1|a_2|\\dots|a_n] = [e_1|e_2|\\dots|e_n]\n",
    "\\begin{bmatrix}\n",
    "a_1\\cdot e_1 & a_2\\cdot e_1 &\\dots & a_n\\cdot e_1\\\\\n",
    "0 & a_2\\cdot e_2 &\\dots & a_n\\cdot e_2\\\\\n",
    "\\vdots & \\vdots & \\ddots & \\vdots\\\\\n",
    "0 & 0 &\\dots & a_n\\cdot e_n\\\\\n",
    "\\end{bmatrix}\n",
    "= QR\n",
    "$$\n",
    "\n",
    "where \n",
    "$$\n",
    "Q = [e_1|e_2|\\dots|e_n] \\text{ and } R=\\begin{bmatrix}\n",
    "a_1\\cdot e_1 & a_2\\cdot e_1 &\\dots & a_n\\cdot e_1\\\\\n",
    "0 & a_2\\cdot e_2 &\\dots & a_n\\cdot e_2\\\\\n",
    "\\vdots & \\vdots & \\ddots & \\vdots\\\\\n",
    "0 & 0 &\\dots & a_n\\cdot e_n\\\\\n",
    "\\end{bmatrix}\n",
    "$$"
   ]
  },
  {
   "cell_type": "markdown",
   "metadata": {},
   "source": [
    "### $A$ not square\n",
    "\n",
    "Now suppose that $A$ is an $n\\times m$ matrix where $m > n$. Then a $QR$ decomposition is\n",
    "\n",
    "$$\n",
    "A = [a_1|a_2|\\dots|a_m] = [e_1|e_2|\\dots|e_n]\n",
    "\\begin{bmatrix}\n",
    "a_1\\cdot e_1 & a_2\\cdot e_1 &\\dots & a_n\\cdot e_1 & \\dots & a_m\\cdot e_1\\\\\n",
    "0 & a_2\\cdot e_2 &\\dots & a_n\\cdot e_2 & \\dots & a_m\\cdot e_2\\\\\n",
    "\\vdots & \\vdots & \\ddots & \\vdots & \\dots & \\ddots\\\\\n",
    "0 & 0 &\\dots & a_n\\cdot e_n& \\dots & a_m\\cdot e_n\\\\\n",
    "\\end{bmatrix}\n",
    "$$"
   ]
  },
  {
   "cell_type": "markdown",
   "metadata": {},
   "source": [
    "## Some Code\n",
    "Now let’s write some homemade Python code to implement a QR decomposition by deploying the Gram-Schmidt process described above."
   ]
  },
  {
   "cell_type": "code",
   "execution_count": 1,
   "metadata": {},
   "outputs": [],
   "source": [
    "import numpy as np\n",
    "from scipy.linalg import qr\n",
    "\n",
    "\n",
    "def QR_Decomposition(A):\n",
    "    n, m = A.shape # get the shape of A\n",
    "\n",
    "    Q = np.empty((n, n)) # initialize matrix Q\n",
    "    u = np.empty((n, n)) # initialize matrix u\n",
    "\n",
    "    u[:, 0] = A[:, 0]\n",
    "    Q[:, 0] = u[:, 0] / np.linalg.norm(u[:, 0])\n",
    "\n",
    "    for i in range(1, n):\n",
    "\n",
    "        u[:, i] = A[:, i]\n",
    "        for j in range(i):\n",
    "            u[:, i] -= (A[:, i] @ Q[:, j]) * Q[:, j] # get each u vector\n",
    "\n",
    "        Q[:, i] = u[:, i] / np.linalg.norm(u[:, i]) # compute each e vetor\n",
    "\n",
    "    R = np.zeros((n, m))\n",
    "    for i in range(n):\n",
    "        for j in range(i, m):\n",
    "            R[i, j] = A[:, j] @ Q[:, i]\n",
    "\n",
    "    return Q, R"
   ]
  },
  {
   "cell_type": "markdown",
   "metadata": {},
   "source": [
    "The preceding code is fine but can benefit from some further housekeeping. We want to do this because later in this notebook we want to compare results from using our homemade code above with the code for a QR that the Python scipy package delivers.\n",
    "\n",
    "There can be be sign differences between the $Q$ and $R$ matrices produced by different numerical algorithms. All of these are valid QR decompositions because of how the sign differences cancel out when we compute $QR$.\n",
    "\n",
    "However, to make the results from our homemade function and the QR module in scipy comparable, let’s require that $Q$ have positive diagonal entries. We do this by adjusting the signs of the columns in $Q$ and the rows in $R$ appropriately.\n",
    "\n",
    "To accomplish this we’ll define a pair of functions."
   ]
  },
  {
   "cell_type": "code",
   "execution_count": 2,
   "metadata": {},
   "outputs": [],
   "source": [
    "def diag_sign(A):\n",
    "    \"Compute the signs of the diagonal of matrix A\"\n",
    "\n",
    "    D = np.diag(np.sign(np.diag(A)))\n",
    "\n",
    "    return D\n",
    "\n",
    "def adjust_sign(Q, R):\n",
    "    \"\"\"\n",
    "    Adjust the signs of the columns in Q and rows in R to\n",
    "    impose positive diagonal of Q\n",
    "    \"\"\"\n",
    "\n",
    "    D = diag_sign(Q)\n",
    "\n",
    "    Q[:, :] = Q @ D\n",
    "    R[:, :] = D @ R\n",
    "\n",
    "    return Q, R"
   ]
  },
  {
   "cell_type": "code",
   "execution_count": 3,
   "metadata": {},
   "outputs": [
    {
     "data": {
      "text/plain": [
       "array([[1., 1., 0.],\n",
       "       [1., 0., 1.],\n",
       "       [0., 1., 1.]])"
      ]
     },
     "execution_count": 3,
     "metadata": {},
     "output_type": "execute_result"
    }
   ],
   "source": [
    "# Example\n",
    "A = np.array([[1.0, 1.0, 0.0], [1.0, 0.0, 1.0], [0.0, 1.0, 1.0]])\n",
    "# A = np.array([[1.0, 0.5, 0.2], [0.5, 0.5, 1.0], [0.0, 1.0, 1.0]])\n",
    "# A = np.array([[1.0, 0.5, 0.2], [0.5, 0.5, 1.0]])\n",
    "\n",
    "A"
   ]
  },
  {
   "cell_type": "code",
   "execution_count": 4,
   "metadata": {},
   "outputs": [],
   "source": [
    "Q, R = adjust_sign(*QR_Decomposition(A))"
   ]
  },
  {
   "cell_type": "code",
   "execution_count": 5,
   "metadata": {},
   "outputs": [
    {
     "data": {
      "text/plain": [
       "array([[ 0.70710678, -0.40824829, -0.57735027],\n",
       "       [ 0.70710678,  0.40824829,  0.57735027],\n",
       "       [ 0.        , -0.81649658,  0.57735027]])"
      ]
     },
     "execution_count": 5,
     "metadata": {},
     "output_type": "execute_result"
    }
   ],
   "source": [
    "Q"
   ]
  },
  {
   "cell_type": "code",
   "execution_count": 6,
   "metadata": {},
   "outputs": [
    {
     "data": {
      "text/plain": [
       "array([[ 1.41421356,  0.70710678,  0.70710678],\n",
       "       [ 0.        , -1.22474487, -0.40824829],\n",
       "       [ 0.        ,  0.        ,  1.15470054]])"
      ]
     },
     "execution_count": 6,
     "metadata": {},
     "output_type": "execute_result"
    }
   ],
   "source": [
    "R"
   ]
  },
  {
   "cell_type": "code",
   "execution_count": 7,
   "metadata": {},
   "outputs": [],
   "source": [
    "Q_scipy, R_scipy = adjust_sign(*qr(A))"
   ]
  },
  {
   "cell_type": "code",
   "execution_count": 8,
   "metadata": {},
   "outputs": [
    {
     "name": "stdout",
     "output_type": "stream",
     "text": [
      "Our Q: \n",
      " [[ 0.70710678 -0.40824829 -0.57735027]\n",
      " [ 0.70710678  0.40824829  0.57735027]\n",
      " [ 0.         -0.81649658  0.57735027]]\n",
      "\n",
      "\n",
      "Scipy Q: \n",
      " [[ 0.70710678 -0.40824829 -0.57735027]\n",
      " [ 0.70710678  0.40824829  0.57735027]\n",
      " [ 0.         -0.81649658  0.57735027]]\n"
     ]
    }
   ],
   "source": [
    "print('Our Q: \\n', Q)\n",
    "print('\\n')\n",
    "print('Scipy Q: \\n', Q_scipy)"
   ]
  },
  {
   "cell_type": "code",
   "execution_count": 9,
   "metadata": {},
   "outputs": [
    {
     "name": "stdout",
     "output_type": "stream",
     "text": [
      "Our R: \n",
      " [[ 1.41421356  0.70710678  0.70710678]\n",
      " [ 0.         -1.22474487 -0.40824829]\n",
      " [ 0.          0.          1.15470054]]\n",
      "\n",
      "\n",
      "Scipy R: \n",
      " [[ 1.41421356  0.70710678  0.70710678]\n",
      " [ 0.         -1.22474487 -0.40824829]\n",
      " [ 0.          0.          1.15470054]]\n"
     ]
    }
   ],
   "source": [
    "print('Our R: \\n', R)\n",
    "print('\\n')\n",
    "print('Scipy R: \\n', R_scipy)"
   ]
  },
  {
   "cell_type": "markdown",
   "metadata": {},
   "source": [
    "The above outcomes give us the good news that our homemade function agrees with what scipy produces. Now let’s do a QR decomposition for a rectangular matrix $A$ that is $n\\times$ with $m >n$."
   ]
  },
  {
   "cell_type": "code",
   "execution_count": 10,
   "metadata": {},
   "outputs": [],
   "source": [
    "A = np.array([[1, 3, 4], [2, 0, 9]])"
   ]
  },
  {
   "cell_type": "code",
   "execution_count": 11,
   "metadata": {},
   "outputs": [
    {
     "data": {
      "text/plain": [
       "(array([[ 0.4472136 , -0.89442719],\n",
       "        [ 0.89442719,  0.4472136 ]]),\n",
       " array([[ 2.23606798,  1.34164079,  9.8386991 ],\n",
       "        [ 0.        , -2.68328157,  0.4472136 ]]))"
      ]
     },
     "execution_count": 11,
     "metadata": {},
     "output_type": "execute_result"
    }
   ],
   "source": [
    "Q, R = adjust_sign(*QR_Decomposition(A))\n",
    "Q, R"
   ]
  },
  {
   "cell_type": "code",
   "execution_count": 12,
   "metadata": {},
   "outputs": [
    {
     "data": {
      "text/plain": [
       "(array([[ 0.4472136 , -0.89442719],\n",
       "        [ 0.89442719,  0.4472136 ]]),\n",
       " array([[ 2.23606798,  1.34164079,  9.8386991 ],\n",
       "        [ 0.        , -2.68328157,  0.4472136 ]]))"
      ]
     },
     "execution_count": 12,
     "metadata": {},
     "output_type": "execute_result"
    }
   ],
   "source": [
    "Q_scipy, R_scipy = adjust_sign(*qr(A))\n",
    "Q_scipy, R_scipy"
   ]
  },
  {
   "cell_type": "markdown",
   "metadata": {},
   "source": [
    "## Using QR Decomposition to Compute Eigenvalues\n",
    "\n",
    "Now for a useful fact about the QR algorithm. The following iterations on the QR decomposition can be used to compute **eigenvalues** of a **square** matrix $A$.\n",
    "\n",
    "Here is the algorithm:\n",
    "\n",
    "1. Set $A_0=A$ and form $A_0 = Q_0R_0$\n",
    "1. Form $A_1 = R_0Q_0$. Note that $A_1$ is similar to $A_0$ (easy to verify) and so has the same eigenvalues.\n",
    "1. Form $A_1 = Q_1R_1$ (i.e., form the $QR$ decomposition of $A_1$).\n",
    "1. Form $A_2 = R_1Q_1$ and then $A_2 = Q_2R_2$.\n",
    "1. Iterate to convergence.\n",
    "1. Compute eigenvalues of $A$ and compare them to the diagonal values of the limiting $A_n$ found from this process.\n",
    "\n",
    "**Remark**: this algorithm is close to one of the most efficient ways of computing eigenvalues!\n",
    "\n",
    "Let’s write some Python code to try out the algorithm"
   ]
  },
  {
   "cell_type": "code",
   "execution_count": 13,
   "metadata": {},
   "outputs": [],
   "source": [
    "def QR_eigvals(A, tol=1e-12, maxiter=1000):\n",
    "    \"Find the eigenvalues of A using QR decomposition.\"\n",
    "\n",
    "    A_old = np.copy(A)\n",
    "    A_new = np.copy(A)\n",
    "\n",
    "    diff = np.inf\n",
    "    i = 0\n",
    "    while (diff > tol) and (i < maxiter):\n",
    "        A_old[:, :] = A_new\n",
    "        Q, R = QR_Decomposition(A_old)\n",
    "\n",
    "        A_new[:, :] = R @ Q\n",
    "\n",
    "        diff = np.abs(A_new - A_old).max()\n",
    "        i += 1\n",
    "\n",
    "    eigvals = np.diag(A_new)\n",
    "\n",
    "    return eigvals"
   ]
  },
  {
   "cell_type": "markdown",
   "metadata": {},
   "source": [
    "Now let’s try the code and compare the results with what `scipy.linalg.eigvals` gives us\n",
    "\n",
    "Here goes"
   ]
  },
  {
   "cell_type": "code",
   "execution_count": 14,
   "metadata": {},
   "outputs": [],
   "source": [
    "# experiment this with one random A matrix\n",
    "A = np.random.random((3, 3))"
   ]
  },
  {
   "cell_type": "code",
   "execution_count": 15,
   "metadata": {},
   "outputs": [
    {
     "data": {
      "text/plain": [
       "[-0.11598607417977123, 0.2498725453213848, 1.3376804202664323]"
      ]
     },
     "execution_count": 15,
     "metadata": {},
     "output_type": "execute_result"
    }
   ],
   "source": [
    "sorted(QR_eigvals(A))"
   ]
  },
  {
   "cell_type": "markdown",
   "metadata": {},
   "source": [
    "Compare with the scipy package."
   ]
  },
  {
   "cell_type": "code",
   "execution_count": 16,
   "metadata": {},
   "outputs": [
    {
     "data": {
      "text/plain": [
       "[-0.11598607417977602, 0.2498725453213847, 1.337680420266434]"
      ]
     },
     "execution_count": 16,
     "metadata": {},
     "output_type": "execute_result"
    }
   ],
   "source": [
    "sorted(np.linalg.eigvals(A))"
   ]
  },
  {
   "cell_type": "markdown",
   "metadata": {},
   "source": [
    "## $QR$ and PCA\n",
    "\n",
    "There are interesting connections between the $QR$ decomposition and principal components analysis (PCA). Here are some. \n",
    "1. Let $X'$ be a $k\\times n$ random matrix where the $j$ th column is a random draw from \n",
    "$\\mathcal N(\\mu, \\Sigma)$ where $\\mu$ is $k\\times 1$ vector of means and $\\Sigma$ is a $k\\times k$ covariance matrix. We want $n >> k$ - this is an “econometrics example”.\n",
    "1. Form $X' = QR$ where $Q$ is $k\\times k$ an $R$ is $k\\times n$ and $R$ is $k\\times n$.\n",
    "1. Form the eigenvalues of $RR'$, i.e., we'll compute $RR' = \\tilde P\\Lambda \\tilde P'$.\n",
    "1. Form $XX' = Q\\tilde P\\Lambda \\tilde P'Q'$ and compare it with the eigen decomposition $XX' = P\\hat\\Lambda P'$.\n",
    "1. It will turn out that that $\\Lambda = \\hat\\Lambda$ and that $P = Q\\tilde P$.\n",
    "\n",
    "Let’s verify conjecture 5 with some Python code. Start by simulating a random $(n,k)$ matrix $X$."
   ]
  },
  {
   "cell_type": "code",
   "execution_count": 17,
   "metadata": {},
   "outputs": [],
   "source": [
    "k = 5\n",
    "n = 1000\n",
    "\n",
    "# generate some random moments\n",
    "mu = np.random.random(size=k)\n",
    "C = np.random.random((k, k))\n",
    "Sigma = C.T @ C"
   ]
  },
  {
   "cell_type": "code",
   "execution_count": 20,
   "metadata": {},
   "outputs": [],
   "source": [
    "# X is random matrix where each column follows multivariate normal dist.\n",
    "X = np.random.multivariate_normal(mu, Sigma, size=n)"
   ]
  },
  {
   "cell_type": "code",
   "execution_count": 21,
   "metadata": {},
   "outputs": [
    {
     "data": {
      "text/plain": [
       "(1000, 5)"
      ]
     },
     "execution_count": 21,
     "metadata": {},
     "output_type": "execute_result"
    }
   ],
   "source": [
    "X.shape"
   ]
  },
  {
   "cell_type": "markdown",
   "metadata": {},
   "source": [
    "Let’s apply the QR decomposition to $X'$"
   ]
  },
  {
   "cell_type": "code",
   "execution_count": 22,
   "metadata": {},
   "outputs": [],
   "source": [
    "Q, R = adjust_sign(*QR_Decomposition(X.T))"
   ]
  },
  {
   "cell_type": "markdown",
   "metadata": {},
   "source": [
    "Check the shapes of $Q$ and $R$"
   ]
  },
  {
   "cell_type": "code",
   "execution_count": 23,
   "metadata": {},
   "outputs": [
    {
     "data": {
      "text/plain": [
       "((5, 5), (5, 1000))"
      ]
     },
     "execution_count": 23,
     "metadata": {},
     "output_type": "execute_result"
    }
   ],
   "source": [
    "Q.shape, R.shape"
   ]
  },
  {
   "cell_type": "markdown",
   "metadata": {},
   "source": [
    "Now we can construct $RR' = \\tilde P\\Lambda \\tilde P'$ and form an eigen decomposition."
   ]
  },
  {
   "cell_type": "code",
   "execution_count": 25,
   "metadata": {},
   "outputs": [],
   "source": [
    "RR = R @ R.T\n",
    "\n",
    "lambda_, P_tilde = np.linalg.eigh(RR)\n",
    "Λ = np.diag(lambda_)"
   ]
  },
  {
   "cell_type": "markdown",
   "metadata": {},
   "source": [
    "We can also apply the decomposition to $XX' = P\\hat\\Lambda P'$."
   ]
  },
  {
   "cell_type": "code",
   "execution_count": 26,
   "metadata": {},
   "outputs": [],
   "source": [
    "XX = X.T @ X\n",
    "\n",
    "lambda__hat, P = np.linalg.eigh(XX)\n",
    "Λ_hat = np.diag(lambda__hat)"
   ]
  },
  {
   "cell_type": "markdown",
   "metadata": {},
   "source": [
    "Compare the eigenvalues that are on the diagonals of $\\Lambda$ and $\\hat\\Lambda$"
   ]
  },
  {
   "cell_type": "code",
   "execution_count": 27,
   "metadata": {},
   "outputs": [
    {
     "data": {
      "text/plain": [
       "(array([  19.53147905,  273.12808368,  624.22626792, 1187.93030619,\n",
       "        5813.78081955]),\n",
       " array([  19.53147905,  273.12808368,  624.22626792, 1187.93030619,\n",
       "        5813.78081955]))"
      ]
     },
     "execution_count": 27,
     "metadata": {},
     "output_type": "execute_result"
    }
   ],
   "source": [
    "lambda_, lambda__hat"
   ]
  },
  {
   "cell_type": "markdown",
   "metadata": {},
   "source": [
    "Let’s compare $P$ and $Q\\tilde P$. Again we need to be careful about sign differences between the columns of $P$ and $Q\\tilde P$."
   ]
  },
  {
   "cell_type": "code",
   "execution_count": 28,
   "metadata": {},
   "outputs": [
    {
     "data": {
      "text/plain": [
       "1.2212453270876722e-15"
      ]
     },
     "execution_count": 28,
     "metadata": {},
     "output_type": "execute_result"
    }
   ],
   "source": [
    "QP_tilde = Q @ P_tilde\n",
    "\n",
    "np.abs(P @ diag_sign(P) - QP_tilde @ diag_sign(QP_tilde)).max()"
   ]
  },
  {
   "cell_type": "markdown",
   "metadata": {},
   "source": [
    "Let’s verify that $X'X$ can be decomposed as $Q\\tilde P\\Lambda \\tilde P'Q'$."
   ]
  },
  {
   "cell_type": "code",
   "execution_count": 29,
   "metadata": {},
   "outputs": [],
   "source": [
    "QPΛPQ = Q @ P_tilde @ Λ @ P_tilde.T @ Q.T"
   ]
  },
  {
   "cell_type": "code",
   "execution_count": 30,
   "metadata": {},
   "outputs": [
    {
     "data": {
      "text/plain": [
       "2.5011104298755527e-12"
      ]
     },
     "execution_count": 30,
     "metadata": {},
     "output_type": "execute_result"
    }
   ],
   "source": [
    "np.abs(QPΛPQ - XX).max()"
   ]
  }
 ],
 "metadata": {
  "kernelspec": {
   "display_name": "Python 3",
   "language": "python",
   "name": "python3"
  },
  "language_info": {
   "codemirror_mode": {
    "name": "ipython",
    "version": 3
   },
   "file_extension": ".py",
   "mimetype": "text/x-python",
   "name": "python",
   "nbconvert_exporter": "python",
   "pygments_lexer": "ipython3",
   "version": "3.7.0"
  }
 },
 "nbformat": 4,
 "nbformat_minor": 2
}
