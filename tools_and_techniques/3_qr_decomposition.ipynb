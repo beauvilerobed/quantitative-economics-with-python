{
 "cells": [
  {
   "cell_type": "markdown",
   "metadata": {},
   "source": [
    "# QR DECOMPOSITION\n",
    "\n",
    "# Overview\n",
    "QR Decomposition\n",
    "- Orthogonal projection and least squares\n",
    "- A Gram-Schmidt process\n",
    "- Eigenvalues and eigenvectors\n",
    "\n",
    "## Overview\n",
    "\n",
    "This notebook describes the QR decomposition and how it relates to\n",
    "- Orthogonal projection and least squares\n",
    "- A Gram-Schmidt process\n",
    "- Eigenvalues and eigenvectors\n",
    "\n",
    "We’ll write some Python code to help consolidate our understandings.\n",
    "\n",
    "## Matrix Factorization\n",
    "\n",
    "The QR decomposition (also called the QR factorization) of a matrix is a decomposition of a matrix into the product of an orthogonal matrix and a triangular matrix.\n",
    "\n",
    "A QR decomposition of a real matrix $A$ takes the form\n",
    "$$\n",
    "A = QR\n",
    "$$\n",
    "where\n",
    "- $Q$ is an orthogonal matrix (so that $Q^TQ=I$)\n",
    "- $R$ is an upper triangular matrix\n",
    "\n",
    "We’ll use a **Gram-Schmidt process** to compute a QR decomposition.\n",
    "\n",
    "## Gram-Schmidt process\n",
    "\n",
    "We’ll start with a **square** matrix $A$. If a square matrix $A$ is nonsingular, then a $QR$ factorization is unique. We’ll deal with a rectangular matrix $A$ later. Actually, the algorithm will work with a rectangular $A$ that is not square.\n",
    "\n",
    "### Gram-Schmidt process for square $A$"
   ]
  },
  {
   "cell_type": "markdown",
   "metadata": {},
   "source": []
  }
 ],
 "metadata": {
  "language_info": {
   "name": "python"
  }
 },
 "nbformat": 4,
 "nbformat_minor": 2
}
