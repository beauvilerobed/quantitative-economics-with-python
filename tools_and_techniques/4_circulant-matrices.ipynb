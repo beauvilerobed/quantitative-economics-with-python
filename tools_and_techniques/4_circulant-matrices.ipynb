{
 "cells": [
  {
   "cell_type": "markdown",
   "metadata": {},
   "source": [
    "# CIRCULANT MATRICES\n",
    "\n",
    "# Content\n",
    "- convolution\n",
    "- Fourier transforms\n",
    "- permutation matrices\n",
    "\n",
    "Because of these connections, circulant matrices are widely used in machine learning, for example, in image processing. We begin by importing some Python packages"
   ]
  },
  {
   "cell_type": "code",
   "execution_count": 2,
   "metadata": {},
   "outputs": [],
   "source": [
    "import numpy as np\n",
    "import matplotlib.pyplot as plt"
   ]
  },
  {
   "cell_type": "code",
   "execution_count": 3,
   "metadata": {},
   "outputs": [],
   "source": [
    "np.set_printoptions(precision=3, suppress=True)"
   ]
  },
  {
   "cell_type": "markdown",
   "metadata": {},
   "source": [
    "## Constructing a Circulant Matrix\n",
    "\n",
    "To construct an $N\\times N$ circulant matrix, we need only the first row, say,\n",
    "$$\n",
    "\\begin{bmatrix}\n",
    "c_0 & c_1 & c_2 & \\dots & c_{N-1}\n",
    "\\end{bmatrix}\n",
    "$$\n",
    "\n",
    "After setting entries in the first row, the remaining rows of a circulant matrix are determined as follows:\n",
    "$$\n",
    "C = \n",
    "\\begin{bmatrix}\n",
    "c_0 & c_1 & c_2 & \\dots & c_{N-1} \\\\\n",
    "c_{N-1} & c_0 & c_1 & \\dots & c_{N-2} \\\\\n",
    "c_{N-2} & c_{N-1} & c_0 & \\dots & c_{N-3} \\\\\n",
    "\\vdots & \\vdots & \\vdots & \\dots & \\vdots \\\\\n",
    "c_1 & c_2 & c_3 & \\dots & c_0 \\\\\n",
    "\\end{bmatrix}\\tag{4.1}\n",
    "$$\n",
    "\n",
    "It is also possible to construct a circulant matrix by creating the transpose of the above matrix, in which case only the first column needs to be specified. Let’s write some Python code to generate a circulant matrix."
   ]
  },
  {
   "cell_type": "code",
   "execution_count": 4,
   "metadata": {},
   "outputs": [],
   "source": [
    "def construct_cirlulant(row):\n",
    "    N = row.size\n",
    "    C = np.empty((N, N))\n",
    "\n",
    "    for i in range(N):\n",
    "        C[i, i:] = row[:N-i]\n",
    "        C[i, :i] = row[N-i:]\n",
    "\n",
    "    return C"
   ]
  },
  {
   "cell_type": "code",
   "execution_count": 5,
   "metadata": {},
   "outputs": [
    {
     "data": {
      "text/plain": [
       "array([[1., 2., 3.],\n",
       "       [3., 1., 2.],\n",
       "       [2., 3., 1.]])"
      ]
     },
     "execution_count": 5,
     "metadata": {},
     "output_type": "execute_result"
    }
   ],
   "source": [
    "# a simple case when N = 3\n",
    "construct_cirlulant(np.array([1., 2., 3.]))"
   ]
  },
  {
   "cell_type": "markdown",
   "metadata": {},
   "source": [
    "### Some Properties of Circulant Matrices\n",
    "\n",
    "Here are some useful properties:\n",
    "\n",
    "Suppose that $A$ and $B$ are both circulant matrices. Then it can be verified that\n",
    "\n",
    "- The transpose of a circulant matrix is a circulant matrix.\n",
    "- $A+B$ is a circulant matrix\n",
    "- $AB$ is a circulant matrix\n",
    "- $AB = BA$\n",
    "\n",
    "Now consider a circulant matrix with first row\n",
    "$$\n",
    "c = \\begin{bmatrix}\n",
    "c_0 & c_1 & c_2 & \\dots & c_{N-1}\n",
    "\\end{bmatrix}\n",
    "$$\n",
    "and consider a vector\n",
    "$$\n",
    "a = \\begin{bmatrix}\n",
    "a_0 & a_1 & a_2 & \\dots & a_{N-1}\n",
    "\\end{bmatrix}\n",
    "$$\n",
    "\n",
    "The **convolution** of vectors $c$ and $a$ is defined as the vector $b = c*a$ with components\n",
    "$$\n",
    "\\begin{equation}\n",
    "b_k = \\sum_{i=0}^{n-1} c_{k-i} a_i\n",
    "\\end{equation}\\tag{4.2}\n",
    "$$\n",
    "\n",
    "We use $*$ to denote **convolution** via the calculation described in equation (4.2). It can be verified that the vector $b$ satisfies\n",
    "$$\n",
    "b = C^Ta\n",
    "$$\n",
    "\n",
    "where $C^T$ is the transpose of the circulant matrix defined in equation (4.1)."
   ]
  },
  {
   "cell_type": "markdown",
   "metadata": {},
   "source": [
    "## Connection to Permutation Matrix\n",
    "\n",
    "A good way to construct a circulant matrix is to use a **permutation matrix**. Before defining a permutation matrix, we’ll define a permutation. A **permutation** of a set of the set of non-negative integers $\\{0,1,2,...\\}$ is a one-to-one mapping of the set into itself. A permutation of a set $\\{1,2,...,n\\}$ rearranges the $n$ integers in the set.\n",
    "\n",
    "A [permutation matrix](https://mathworld.wolfram.com/PermutationMatrix.html) is obtained by permuting the rows of an $n\\times n$ identity matrix according to a permutation of the numbers $1$ to $n. Thus, every row and every column contain precisely a single $1$ with $0$ everywhere else.\n",
    "\n",
    "Every permutation corresponds to a unique permutation matrix.\n",
    "\n",
    "For example, the $N\\times N$ matrix\n",
    "$$\n",
    "P = \n",
    "\\begin{bmatrix}\n",
    "0 & 1 & 0 & 0 & \\dots & 0\\\\\n",
    "0 & 0 & 1 & 0 & \\dots & 0\\\\\n",
    "0 & 0 & 0 & 1 & \\dots & 0\\\\\n",
    "\\vdots & \\vdots & \\vdots & \\vdots & \\vdots & \\vdots\\\\\n",
    "0 & 0 & 0 & 0 & \\dots & 1\\\\\n",
    "1 & 0 & 0 & 0 & \\dots & 0\\\\\n",
    "\\end{bmatrix}\n",
    "$$\n",
    "\n",
    "serves as a **cyclic shift** operator that, when applied to an $N\\times 1$ vector $h$, shifts entries in rows $2$ through $N$ up one row and shifts the entry in row $1$ to row $N$.\n",
    "\n",
    "Eigenvalues of the cyclic shift permutation matrix $P$ defined in equation (4.3) can be computed by constructing\n",
    "$$\n",
    "P-\\lambda I = \n",
    "\\begin{bmatrix}\n",
    "-\\lambda & 1 & 0 & 0 & \\dots & 0\\\\\n",
    "0 & -\\lambda & 1 & 0 & \\dots & 0\\\\\n",
    "0 & 0 & -\\lambda & 1 & \\dots & 0\\\\\n",
    "\\vdots & \\vdots & \\vdots & \\vdots & \\vdots & \\vdots\\\\\n",
    "0 & 0 & 0 & 0 & \\dots & 1\\\\\n",
    "1 & 0 & 0 & 0 & \\dots & -\\lambda\\\\\n",
    "\\end{bmatrix}\n",
    "$$\n",
    "and solving\n",
    "$$\n",
    "\\det (P-\\lambda I) = (-1)^{N}\\lambda^N -1 = 0\n",
    "$$\n",
    "Eigenvalues $\\lambda_i$ can be complex. Magnitudes $|\\lambda_i|$ of these eigenvalues $\\lambda_i$ all equal $1$. Thus, **singular values** of the permutation matrix $P$ defined in equation (4.3) all equal $1$.\n",
    "\n",
    "It can be verified that permutation matrices are orthogonal matrices:\n",
    "$$\n",
    "PP'=1\n",
    "$$"
   ]
  },
  {
   "cell_type": "markdown",
   "metadata": {},
   "source": [
    "## Examples with Python"
   ]
  },
  {
   "cell_type": "code",
   "execution_count": null,
   "metadata": {},
   "outputs": [],
   "source": [
    "def construct_P(N):\n",
    "\n",
    "    P = np.zeros((N, N))\n",
    "\n",
    "    for i in range(N-1):\n",
    "        P[i, i+1] = 1\n",
    "    P[-1, 0] = 1\n",
    "\n",
    "    return P"
   ]
  },
  {
   "cell_type": "code",
   "execution_count": null,
   "metadata": {},
   "outputs": [],
   "source": [
    "P4 = construct_P(4)\n",
    "P4"
   ]
  },
  {
   "cell_type": "code",
   "execution_count": null,
   "metadata": {},
   "outputs": [],
   "source": [
    "# compute the eigenvalues and eigenvectors\n",
    "𝜆, Q = np.linalg.eig(P4)"
   ]
  },
  {
   "cell_type": "code",
   "execution_count": null,
   "metadata": {},
   "outputs": [],
   "source": [
    "for i in range(4):\n",
    "    print(f'𝜆{i} = {𝜆[i]:.1f} \\nvec{i} = {Q[i, :]}\\n')"
   ]
  },
  {
   "cell_type": "markdown",
   "metadata": {},
   "source": [
    "In graphs below, we shall portray eigenvalues of a shift permutation matrix in the complex plane. These eigenvalues are uniformly distributed along the unit circle. They are the $n$ **roots of unity**, meaning they are the $n$ numbers $z$ that solve $z^n=1$, where $z$ is a complex number.\n",
    "\n",
    "In particular, the $n$ roots of unity are\n",
    "$$\n",
    "z = \\exp\\left(\\frac{2\\pi jk}{N}\\right), k=0,...,N-1\n",
    "$$\n",
    "where $j$ denotes the purely imaginary unit number."
   ]
  },
  {
   "cell_type": "code",
   "execution_count": null,
   "metadata": {},
   "outputs": [],
   "source": [
    "fig, ax = plt.subplots(2, 2, figsize=(10, 10))\n",
    "\n",
    "for i, N in enumerate([3, 4, 6, 8]):\n",
    "\n",
    "    row_i = i // 2\n",
    "    col_i = i % 2\n",
    "\n",
    "    P = construct_P(N)\n",
    "    𝜆, Q = np.linalg.eig(P)\n",
    "\n",
    "    circ = plt.Circle((0, 0), radius=1, edgecolor='b', facecolor='None')\n",
    "    ax[row_i, col_i].add_patch(circ)\n",
    "\n",
    "    for j in range(N):\n",
    "        ax[row_i, col_i].scatter(𝜆[j].real, 𝜆[j].imag, c='b')\n",
    "\n",
    "    ax[row_i, col_i].set_title(f'N = {N}')\n",
    "    ax[row_i, col_i].set_xlabel('real')\n",
    "    ax[row_i, col_i].set_ylabel('imaginary')\n",
    "\n",
    "plt.show()"
   ]
  },
  {
   "cell_type": "markdown",
   "metadata": {},
   "source": [
    "For a vector of coefficients $\\{c_i\\}_{i=0}^{n-1}$, eigenvectors of $P$ are also eigenvectors of\n",
    "$$\n",
    "C = c_0I + c_1P+c_2P^2 +\\dots c_{N-1}P^{N-1}\n",
    "$$\n",
    "Consider an example in which $N=8$ and let $w=e^{-2\\pi j/N}$.\n",
    "\n",
    "It can be verified that the matrix $F_8$ of eigenvectors of $P_8$ is\n",
    "$$\n",
    "F_8 = \n",
    "\\begin{bmatrix}\n",
    "1 & 1 & 1 & \\dots & 1\\\\\n",
    "1 & w & w^2 & \\dots & w^7\\\\\n",
    "1 & w^2 & w^4 & \\dots & w^14\\\\\n",
    "1 & w^3 & w^6 & \\dots & w^21\\\\\n",
    "1 & w^4 & w^8 & \\dots & w^28\\\\\n",
    "1 & w^5 & w^10 & \\dots & w^35\\\\\n",
    "1 & w^6 & w^12 & \\dots & w^42\\\\\n",
    "1 & w^7 & w^14 & \\dots & w^49\\\\\n",
    "\\end{bmatrix}\n",
    "$$\n",
    "\n",
    "The matrix $F_8$ defines a [Discete Fourier Transform](https://en.wikipedia.org/wiki/Discrete_Fourier_transform). To convert it into an orthogonal eigenvector matrix, we can simply normalize it by dividing every entry by $\\sqrt 8$.\n",
    "- stare at the first column $F_8$ of above to convince yourself of this fact\n",
    "\n",
    "The eigenvalues corresponding to each eigenvector are $\\{w^j\\}_{j=0}^{7}$ in order."
   ]
  },
  {
   "cell_type": "code",
   "execution_count": null,
   "metadata": {},
   "outputs": [],
   "source": [
    "def construct_F(N):\n",
    "    w = np.e ** (-complex(0, 2*np.pi/N))\n",
    "    F = np.ones((N, N), dtype=complex)\n",
    "    \n",
    "    for i in range(1, N):\n",
    "        F[i, 1:] = w ** (i * np.arange(1, N))\n",
    "\n",
    "    return F, w"
   ]
  },
  {
   "cell_type": "code",
   "execution_count": null,
   "metadata": {},
   "outputs": [],
   "source": [
    "F8, w = construct_F(8)"
   ]
  },
  {
   "cell_type": "code",
   "execution_count": null,
   "metadata": {},
   "outputs": [],
   "source": [
    "w"
   ]
  },
  {
   "cell_type": "code",
   "execution_count": null,
   "metadata": {},
   "outputs": [],
   "source": [
    "F8"
   ]
  },
  {
   "cell_type": "code",
   "execution_count": null,
   "metadata": {},
   "outputs": [],
   "source": [
    "# normalize\n",
    "Q8 = F8 / np.sqrt(8)"
   ]
  },
  {
   "cell_type": "code",
   "execution_count": null,
   "metadata": {},
   "outputs": [],
   "source": [
    "# verify the orthogonality (unitarity)\n",
    "Q8 @ np.conjugate(Q8)"
   ]
  },
  {
   "cell_type": "markdown",
   "metadata": {},
   "source": [
    "Let’s verify that $k$ th column of $Q_8$ is an eigenvector of $P_8$ with an eigenvalue $w^k$."
   ]
  },
  {
   "cell_type": "code",
   "execution_count": null,
   "metadata": {},
   "outputs": [],
   "source": [
    "P8 = construct_P(8)"
   ]
  },
  {
   "cell_type": "code",
   "execution_count": null,
   "metadata": {},
   "outputs": [],
   "source": [
    "diff_arr = np.empty(8, dtype=complex)\n",
    "for j in range(8):\n",
    "    diff = P8 @ Q8[:, j] - w ** j * Q8[:, j]\n",
    "    diff_arr[j] = diff @ diff.T"
   ]
  },
  {
   "cell_type": "code",
   "execution_count": null,
   "metadata": {},
   "outputs": [],
   "source": [
    "diff_arr"
   ]
  },
  {
   "cell_type": "markdown",
   "metadata": {},
   "source": [
    "## Associated Permutation Matrix\n",
    "Next, we execute calculations to verify that the circulant matrix $C$ defined in equation (4.1) can be written as\n",
    "$$\n",
    "C = c_0I + c_1P+c_2P^2 +\\dots c_{n-1}P^{n-1}\n",
    "$$\n",
    "and that every eigenvector of $P$ is also an eigenvector of $C$.\n",
    "\n",
    "We illustrate this for $N=8$ case."
   ]
  },
  {
   "cell_type": "code",
   "execution_count": null,
   "metadata": {},
   "outputs": [],
   "source": [
    "c = np.random.random(8)"
   ]
  },
  {
   "cell_type": "code",
   "execution_count": null,
   "metadata": {},
   "outputs": [],
   "source": [
    "c"
   ]
  },
  {
   "cell_type": "code",
   "execution_count": null,
   "metadata": {},
   "outputs": [],
   "source": [
    "C8 = construct_cirlulant(c)"
   ]
  },
  {
   "cell_type": "markdown",
   "metadata": {},
   "source": [
    "Compute $\n",
    "C = c_0I + c_1P+c_2P^2 +\\dots c_{n-1}P^{n-1}\n",
    "$."
   ]
  },
  {
   "cell_type": "code",
   "execution_count": null,
   "metadata": {},
   "outputs": [],
   "source": [
    "N = 8\n",
    "\n",
    "C = np.zeros((N, N))\n",
    "P = np.eye(N)\n",
    "\n",
    "for i in range(N):\n",
    "    C += c[i] * P\n",
    "    P = P8 @ P"
   ]
  },
  {
   "cell_type": "code",
   "execution_count": null,
   "metadata": {},
   "outputs": [],
   "source": [
    "C"
   ]
  },
  {
   "cell_type": "code",
   "execution_count": null,
   "metadata": {},
   "outputs": [],
   "source": [
    "C8"
   ]
  },
  {
   "cell_type": "markdown",
   "metadata": {},
   "source": [
    "Now let’s compute the difference between two circulant matrices that we have constructed in two different ways."
   ]
  },
  {
   "cell_type": "code",
   "execution_count": null,
   "metadata": {},
   "outputs": [],
   "source": [
    "np.abs(C - C8).max()"
   ]
  },
  {
   "cell_type": "markdown",
   "metadata": {},
   "source": [
    "The $k$ th column of $P_8$ associated with eigenvalue $w^{k-1}$ is an eigenvector of $C_8$ associated with an eigenvalue \n",
    "$\\sum_{h=0}^7c_jw^{hk}$."
   ]
  },
  {
   "cell_type": "code",
   "execution_count": null,
   "metadata": {},
   "outputs": [],
   "source": [
    "𝜆_C8 = np.zeros(8, dtype=complex)\n",
    "\n",
    "for j in range(8):\n",
    "    for k in range(8):\n",
    "        𝜆_C8[j] += c[k] * w ** (j * k)"
   ]
  },
  {
   "cell_type": "code",
   "execution_count": null,
   "metadata": {},
   "outputs": [],
   "source": [
    "𝜆_C8"
   ]
  },
  {
   "cell_type": "markdown",
   "metadata": {},
   "source": [
    "We can verify this by comparing C8 @ Q8[:, j] with 𝜆_C8[j] * Q8[:, j]."
   ]
  },
  {
   "cell_type": "code",
   "execution_count": null,
   "metadata": {},
   "outputs": [],
   "source": [
    "# verify\n",
    "for j in range(8):\n",
    "    diff = C8 @ Q8[:, j] - 𝜆_C8[j] * Q8[:, j]\n",
    "    print(diff)"
   ]
  },
  {
   "cell_type": "markdown",
   "metadata": {},
   "source": [
    "## Discrete Fourier Transform\n",
    "\n",
    "The **Discrete Fourier Transform** (DFT) allows us to represent a discrete time sequence as a weighted sum of complex sinusoids. Consider a sequence of $N$ real number $\\{x_j\\}_{j=0}^{N-1}$.\n",
    "\n",
    "The Discrete Fourier Transform maps $\\{x_j\\}_{j=0}^{N-1}$ into a sequence of complex numbers $\\{X_k\\}_{k=0}^{N-1}$ where\n",
    "$$\n",
    "X_k = \\sum_{n=0}^{N-1}x_ne^{-2\\pi\\frac{kn}{N}i}\n",
    "$$"
   ]
  },
  {
   "cell_type": "code",
   "execution_count": null,
   "metadata": {},
   "outputs": [],
   "source": [
    "def DFT(x):\n",
    "    \"The discrete Fourier transform.\"\n",
    "\n",
    "    N = len(x)\n",
    "    w = np.e ** (-complex(0, 2*np.pi/N))\n",
    "\n",
    "    X = np.zeros(N, dtype=complex)\n",
    "    for k in range(N):\n",
    "        for n in range(N):\n",
    "            X[k] += x[n] * w ** (k * n)\n",
    "\n",
    "    return X"
   ]
  },
  {
   "cell_type": "markdown",
   "metadata": {},
   "source": [
    "Consider the following example.\n",
    "$$\n",
    "x_n = \n",
    "\\begin{cases}\n",
    "\\frac{1}{2} & n=0,1\\\\\n",
    "0 & otherwise\n",
    "\\end{cases}\n",
    "$$"
   ]
  },
  {
   "cell_type": "code",
   "execution_count": null,
   "metadata": {},
   "outputs": [],
   "source": [
    "x = np.zeros(10)\n",
    "x[0:2] = 1/2"
   ]
  },
  {
   "cell_type": "code",
   "execution_count": null,
   "metadata": {},
   "outputs": [],
   "source": [
    "x"
   ]
  },
  {
   "cell_type": "markdown",
   "metadata": {},
   "source": [
    "Apply a discrete Fourier transform."
   ]
  },
  {
   "cell_type": "code",
   "execution_count": null,
   "metadata": {},
   "outputs": [],
   "source": [
    "X = DFT(x)"
   ]
  },
  {
   "cell_type": "code",
   "execution_count": null,
   "metadata": {},
   "outputs": [],
   "source": [
    "X"
   ]
  },
  {
   "cell_type": "markdown",
   "metadata": {},
   "source": [
    "We can plot magnitudes of a sequence of numbers and the associated discrete Fourier transform"
   ]
  },
  {
   "cell_type": "code",
   "execution_count": null,
   "metadata": {},
   "outputs": [],
   "source": [
    "def plot_magnitude(x=None, X=None):\n",
    "\n",
    "    data = []\n",
    "    names = []\n",
    "    xs = []\n",
    "    if (x is not None):\n",
    "        data.append(x)\n",
    "        names.append('x')\n",
    "        xs.append('n')\n",
    "    if (X is not None):\n",
    "        data.append(X)\n",
    "        names.append('X')\n",
    "        xs.append('j')\n",
    "\n",
    "    num = len(data)\n",
    "    for i in range(num):\n",
    "        n = data[i].size\n",
    "        plt.figure(figsize=(8, 3))\n",
    "        plt.scatter(range(n), np.abs(data[i]))\n",
    "        plt.vlines(range(n), 0, np.abs(data[i]), color='b')\n",
    "\n",
    "        plt.xlabel(xs[i])\n",
    "        plt.ylabel('magnitude')\n",
    "        plt.title(names[i])\n",
    "        plt.show()"
   ]
  },
  {
   "cell_type": "code",
   "execution_count": null,
   "metadata": {},
   "outputs": [],
   "source": [
    "plot_magnitude(x=x, X=X)"
   ]
  },
  {
   "cell_type": "markdown",
   "metadata": {},
   "source": [
    "The **inverse Fourier transform** transforms a Fourier transform $X$ of $x$ back to $x$. The inverse Fourier transform is defined as\n",
    "$$\n",
    "x_n = \\sum_{k=0}^{N-1}\\frac{1}{N}X_ke^{2\\pi(\\frac{kn}{N})i}, n=0,1,...,N-1\n",
    "$$"
   ]
  },
  {
   "cell_type": "code",
   "execution_count": null,
   "metadata": {},
   "outputs": [],
   "source": [
    "def inverse_transform(X):\n",
    "\n",
    "    N = len(X)\n",
    "    w = np.e ** (complex(0, 2*np.pi/N))\n",
    "\n",
    "    x = np.zeros(N, dtype=complex)\n",
    "    for n in range(N):\n",
    "        for k in range(N):\n",
    "            x[n] += X[k] * w ** (k * n) / N\n",
    "\n",
    "    return x"
   ]
  },
  {
   "cell_type": "code",
   "execution_count": null,
   "metadata": {},
   "outputs": [],
   "source": [
    "inverse_transform(X)"
   ]
  },
  {
   "cell_type": "markdown",
   "metadata": {},
   "source": [
    "Another example is\n",
    "$$\n",
    "x_n = 2\\cos\\left( 2\\pi\\frac{11}{40}n \\right), n=0,1,2,...,19\n",
    "$$\n",
    "Since $N=20$, we cannot use an integer multiple of $\\frac{1}{20}$ to represent a frequency $\\frac{11}{40}$. To handle this, we shall end up using all $N$ of the availble frequencies in the DFT.\n",
    "\n",
    "Since $\\frac{11}{40}$ is in between $\\frac{10}{40}$ and $\\frac{12}{40}$ (each of which is an integer multiple of $\\frac{1}{20}$), the complex coefficients in the DFT have their largest magnitudes at $k=5,6,...,15,16$, not just at a single frequency."
   ]
  },
  {
   "cell_type": "code",
   "execution_count": null,
   "metadata": {},
   "outputs": [],
   "source": [
    "N = 20\n",
    "x = np.empty(N)\n",
    "\n",
    "for j in range(N):\n",
    "    x[j] = 2 * np.cos(2 * np.pi * 11 * j / 40)"
   ]
  },
  {
   "cell_type": "code",
   "execution_count": null,
   "metadata": {},
   "outputs": [],
   "source": [
    "X = DFT(x)"
   ]
  },
  {
   "cell_type": "code",
   "execution_count": null,
   "metadata": {},
   "outputs": [],
   "source": [
    "plot_magnitude(x=x, X=X)"
   ]
  },
  {
   "cell_type": "markdown",
   "metadata": {},
   "source": [
    "What happens if we change the last example to $x_n = 2\\cos\\left( 2\\pi\\frac{10}{40}n \\right)$?\n",
    "\n",
    "Note that $\\frac{10}{40}$ is an integer multiple of $\\frac{1}{20}$."
   ]
  },
  {
   "cell_type": "code",
   "execution_count": null,
   "metadata": {},
   "outputs": [],
   "source": [
    "N = 20\n",
    "x = np.empty(N)\n",
    "\n",
    "for j in range(N):\n",
    "    x[j] = 2 * np.cos(2 * np.pi * 10 * j / 40)"
   ]
  },
  {
   "cell_type": "code",
   "execution_count": null,
   "metadata": {},
   "outputs": [],
   "source": [
    "X = DFT(x)"
   ]
  },
  {
   "cell_type": "code",
   "execution_count": null,
   "metadata": {},
   "outputs": [],
   "source": [
    "plot_magnitude(x=x, X=X)"
   ]
  },
  {
   "cell_type": "markdown",
   "metadata": {},
   "source": [
    "If we represent the discrete Fourier transform as a matrix, we discover that it equals the matrix $F_N$ of eigenvectors of the permutation matrix $P_N$.\n",
    "\n",
    "We can use the example where $x_n = 2\\cos\\left( 2\\pi\\frac{10}{40}n \\right)$, $n=0,1,2,...,19$ to illustrate this."
   ]
  },
  {
   "cell_type": "code",
   "execution_count": null,
   "metadata": {},
   "outputs": [],
   "source": [
    "N = 20\n",
    "x = np.empty(N)\n",
    "\n",
    "for j in range(N):\n",
    "    x[j] = 2 * np.cos(2 * np.pi * 11 * j / 40)"
   ]
  },
  {
   "cell_type": "code",
   "execution_count": null,
   "metadata": {},
   "outputs": [],
   "source": [
    "x"
   ]
  },
  {
   "cell_type": "markdown",
   "metadata": {},
   "source": [
    "First use the summation formula to transform $x$ to $X$."
   ]
  },
  {
   "cell_type": "code",
   "execution_count": null,
   "metadata": {},
   "outputs": [],
   "source": [
    "X = DFT(x)\n",
    "X"
   ]
  },
  {
   "cell_type": "markdown",
   "metadata": {},
   "source": [
    "Now let’s evaluate the outcome of postmultiplying the eigenvector matrix $F_20$ by the vector $x$, a product that we claim should equal the Fourier tranform of the sequence $\\{X_k\\}_{k=0}^{N-1}$."
   ]
  },
  {
   "cell_type": "code",
   "execution_count": null,
   "metadata": {},
   "outputs": [],
   "source": [
    "F20, _ = construct_F(20)"
   ]
  },
  {
   "cell_type": "code",
   "execution_count": null,
   "metadata": {},
   "outputs": [],
   "source": [
    "F20 @ x"
   ]
  },
  {
   "cell_type": "markdown",
   "metadata": {},
   "source": [
    "Similarly, the inverse DFT can be expressed as a inverse DFT matrix $F_20^{-1}$."
   ]
  },
  {
   "cell_type": "code",
   "execution_count": null,
   "metadata": {},
   "outputs": [],
   "source": [
    "F20_inv = np.linalg.inv(F20)\n",
    "F20_inv @ X"
   ]
  }
 ],
 "metadata": {
  "kernelspec": {
   "display_name": "Python 3",
   "language": "python",
   "name": "python3"
  },
  "language_info": {
   "codemirror_mode": {
    "name": "ipython",
    "version": 3
   },
   "file_extension": ".py",
   "mimetype": "text/x-python",
   "name": "python",
   "nbconvert_exporter": "python",
   "pygments_lexer": "ipython3",
   "version": "3.7.0"
  }
 },
 "nbformat": 4,
 "nbformat_minor": 2
}
