{
 "cells": [
  {
   "cell_type": "markdown",
   "metadata": {},
   "source": [
    "# CIRCULANT MATRICES\n",
    "\n",
    "# Content\n",
    "- convolution\n",
    "- Fourier transforms\n",
    "- permutation matrices\n",
    "\n",
    "Because of these connections, circulant matrices are widely used in machine learning, for example, in image processing. We begin by importing some Python packages"
   ]
  },
  {
   "cell_type": "markdown",
   "metadata": {},
   "source": []
  }
 ],
 "metadata": {
  "language_info": {
   "name": "python"
  }
 },
 "nbformat": 4,
 "nbformat_minor": 2
}
