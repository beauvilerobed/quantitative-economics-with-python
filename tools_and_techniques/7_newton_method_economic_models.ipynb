{
 "cells": [
  {
   "cell_type": "markdown",
   "metadata": {},
   "source": [
    "# USING NEWTON’S METHOD TO SOLVE ECONOMIC MODELS\n",
    "\n",
    "# Content\n",
    "- Overview\n",
    "- Fixed Point Computation Using Newton’s Method\n",
    "- Root-Finding in One Dimension\n",
    "- Multivariate Newton’s Method\n",
    "- Exercises\n",
    "\n",
    "## Overview\n",
    "Many economic problems involve finding [fixed points](https://en.wikipedia.org/wiki/Fixed_point_(mathematics)) or [zeros](https://en.wikipedia.org/wiki/Zero_of_a_function) (sometimes called “roots”) of functions. For example, in a simple supply and demand model, an equilibrium price is one that makes excess demand zero.\n",
    "\n",
    "In other words, an equilibrium is a zero of the excess demand function. There are various computational techniques for solving for fixed points and zeros. In this notebook we study an important gradient-based technique called [Newton’s method](https://en.wikipedia.org/wiki/Newton%27s_method). Newton’s method does not always work but, in situations where it does, convergence is often fast when compared to other methods.\n",
    "\n",
    "The notebook will apply Newton’s method in one-dimensional and multi-dimensional settings to solve fixed-point and zero-finding problems.\n",
    "- When finding the fixed point of a function $f$, Newton’s method updates an existing guess of the fixed point by solving for the fixed point of a linear approximation to the function $f$.\n",
    "- When finding the zero of a function $f$, Newton’s method updates an existing guess by solving for the zero of a linear approximation to the function $f$.\n",
    "\n",
    "To build intuition, we first consider an easy, one-dimensional fixed point problem where we know the solution and solve it using both successive approximation and Newton’s method. Then we apply Newton’s method to multi-dimensional settings to solve market for equilibria with multiple goods. At the end we leverage the power of automatic differentiation in **[autograd](https://github.com/HIPS/autograd)** to solve a very high-dimensional equilibrium problem"
   ]
  },
  {
   "cell_type": "code",
   "execution_count": 98,
   "metadata": {},
   "outputs": [],
   "source": [
    "import matplotlib.pyplot as plt\n",
    "from collections import namedtuple\n",
    "from scipy.optimize import root\n",
    "from autograd import jacobian\n",
    "# Thinly-wrapped numpy to enable automatic differentiation\n",
    "import autograd.numpy as np\n",
    "\n",
    "plt.rcParams[\"figure.figsize\"] = (10, 5.7)"
   ]
  },
  {
   "cell_type": "markdown",
   "metadata": {},
   "source": [
    "## Fixed Point Computation Using Newton’s Method\n",
    "In this section we solve the fixed point of the law of motion for capital in the setting of the [Solow growth model](https://en.wikipedia.org/wiki/Solow%E2%80%93Swan_model).\n",
    "\n",
    "We will inspect the fixed point visually, solve it by successive approximation, and then apply Newton’s method to achieve faster convergence.\n",
    "\n",
    "### The Solow Model\n",
    "In the Solow growth model, assuming Cobb-Douglas production technology and zero population growth, the law of motion for capital is\n",
    "\n",
    "$$\n",
    "\\begin{equation}\n",
    "k_{t+1} = g(k_t) \\text{ where } \n",
    "    g(k) := sAk^\\alpha + (1-\\delta) k\n",
    "\\end{equation}\\tag{7.1}\n",
    "$$\n",
    "Here\n",
    "- $k_t$ is capital stock per worker,\n",
    "- $A, \\alpha>0$ are production parameters, $\\alpha<1$\n",
    "- $s>0$ is a savings rate, and\n",
    "- $\\delta \\in(0,1)$ is a rate of depreciation\n",
    "\n",
    "In this example, we wish to calculate the unique strictly positive fixed point of $g$, the law of motion for capital. In other words, we seek a $k^* > 0$ such that $g(k^*)=k^*$.\n",
    "\n",
    "- such a $k^*$ is called a [steady state](https://en.wikipedia.org/wiki/Steady_state), since $k_t = k^*$ implies $k_{t+1} = k^*$.\n",
    "\n",
    "Using pencil and paper to solve $g(k)=k$, you will be able to confirm that\n",
    "\n",
    "$$\n",
    "k^* = \\left(\\frac{s A}{\\delta}\\right)^{1/(1 - \\alpha)}\n",
    "$$\n",
    "\n",
    "### Implementation\n",
    "Let’s store our parameters in [namedtuple](https://docs.python.org/3/library/collections.html#collections.namedtuple) to help us keep our code clean and concise."
   ]
  },
  {
   "cell_type": "code",
   "execution_count": 99,
   "metadata": {},
   "outputs": [],
   "source": [
    "SolowParameters = namedtuple(\"SolowParameters\", ('A', 's', 'alpha', 'delta'))"
   ]
  },
  {
   "cell_type": "markdown",
   "metadata": {},
   "source": [
    "This function creates a suitable namedtuple with default parameter values."
   ]
  },
  {
   "cell_type": "code",
   "execution_count": 100,
   "metadata": {},
   "outputs": [],
   "source": [
    "def create_solow_params(A=2.0, s=0.3, alpha=0.3, delta=0.4):\n",
    "    \"Creates a Solow model parameterization with default values.\"\n",
    "    return SolowParameters(A=A, s=s, alpha=alpha, delta=delta)"
   ]
  },
  {
   "cell_type": "markdown",
   "metadata": {},
   "source": [
    "The next two functions implement the law of motion (7.1) and store the true fixed point $k^*$."
   ]
  },
  {
   "cell_type": "code",
   "execution_count": 101,
   "metadata": {},
   "outputs": [],
   "source": [
    "def g(k, params):\n",
    "    A, s, alpha, delta = params\n",
    "    return A * s * k**alpha + (1 - delta) * k\n",
    "    \n",
    "def exact_fixed_point(params):\n",
    "    A, s, alpha, delta = params\n",
    "    return ((s * A) / delta)**(1/(1 - alpha))"
   ]
  },
  {
   "cell_type": "markdown",
   "metadata": {},
   "source": [
    "Here is a function to provide a 45 degree plot of the dynamics."
   ]
  },
  {
   "cell_type": "code",
   "execution_count": 102,
   "metadata": {},
   "outputs": [],
   "source": [
    "def plot_45(params, ax, fontsize=14):\n",
    "    \n",
    "    k_min, k_max = 0.0, 3.0\n",
    "    k_grid = np.linspace(k_min, k_max, 1200)\n",
    "\n",
    "    # Plot the functions\n",
    "    lb = r\"$g(k) = sAk^{\\alpha} + (1 - \\delta)k$\"\n",
    "    ax.plot(k_grid, g(k_grid, params),  lw=2, alpha=0.6, label=lb)\n",
    "    ax.plot(k_grid, k_grid, \"k--\", lw=1, alpha=0.7, label=\"45\")\n",
    "\n",
    "    # Show and annotate the fixed point\n",
    "    kstar = exact_fixed_point(params)\n",
    "    fps = (kstar,)\n",
    "    ax.plot(fps, fps, \"go\", ms=10, alpha=0.6)\n",
    "    ax.annotate(r\"$k^* = (sA / \\delta)^{\\frac{1}{1-\\alpha}}$\", \n",
    "             xy=(kstar, kstar),\n",
    "             xycoords=\"data\",\n",
    "             xytext=(20, -20),\n",
    "             textcoords=\"offset points\",\n",
    "             fontsize=fontsize)\n",
    "\n",
    "    ax.legend(loc=\"upper left\", frameon=False, fontsize=fontsize)\n",
    "\n",
    "    ax.set_yticks((0, 1, 2, 3))\n",
    "    ax.set_yticklabels((0.0, 1.0, 2.0, 3.0), fontsize=fontsize)\n",
    "    ax.set_ylim(0, 3)\n",
    "    ax.set_xlabel(\"$k_t$\", fontsize=fontsize)\n",
    "    ax.set_ylabel(\"$k_{t+1}$\", fontsize=fontsize)"
   ]
  },
  {
   "cell_type": "markdown",
   "metadata": {},
   "source": [
    "Let’s look at the 45 degree diagram for two parameterizations."
   ]
  },
  {
   "cell_type": "code",
   "execution_count": 103,
   "metadata": {},
   "outputs": [
    {
     "data": {
      "image/png": "[encoded data removed]",
      "text/plain": [
       "<Figure size 576x576 with 1 Axes>"
      ]
     },
     "metadata": {
      "needs_background": "light"
     },
     "output_type": "display_data"
    }
   ],
   "source": [
    "params = create_solow_params()\n",
    "fig, ax = plt.subplots(figsize=(8, 8))\n",
    "plot_45(params, ax)\n",
    "plt.show()"
   ]
  },
  {
   "cell_type": "code",
   "execution_count": 104,
   "metadata": {},
   "outputs": [
    {
     "data": {
      "image/png": "[encoded data removed]",
      "text/plain": [
       "<Figure size 576x576 with 1 Axes>"
      ]
     },
     "metadata": {
      "needs_background": "light"
     },
     "output_type": "display_data"
    }
   ],
   "source": [
    "params = create_solow_params(alpha=0.05, delta=0.5)\n",
    "fig, ax = plt.subplots(figsize=(8, 8))\n",
    "plot_45(params, ax)\n",
    "plt.show()"
   ]
  },
  {
   "cell_type": "markdown",
   "metadata": {},
   "source": [
    "We see that $k^*$ is indeed the unique positive fixed point.\n",
    "\n",
    "#### Successive Approximation\n",
    "First let’s compute the fixed point using successive approximation. In this case, successive approximation means repeatedly updating capital from some initial state $k_0$ using the law of motion. Here’s a time series from a particular choice of $k_0$."
   ]
  },
  {
   "cell_type": "code",
   "execution_count": 105,
   "metadata": {},
   "outputs": [],
   "source": [
    "def compute_iterates(k_0, f, params, n=25):\n",
    "    \"Compute time series of length n generated by arbitrary function f.\"\n",
    "    k = k_0\n",
    "    k_iterates = []\n",
    "    for _ in range(n):\n",
    "        k_iterates.append(k)\n",
    "        k = f(k, params)\n",
    "    return k_iterates"
   ]
  },
  {
   "cell_type": "code",
   "execution_count": 106,
   "metadata": {},
   "outputs": [
    {
     "data": {
      "image/png": "[encoded data removed]",
      "text/plain": [
       "<Figure size 720x410.4 with 1 Axes>"
      ]
     },
     "metadata": {
      "needs_background": "light"
     },
     "output_type": "display_data"
    }
   ],
   "source": [
    "params = create_solow_params()\n",
    "k_0 = 0.25\n",
    "k_series = compute_iterates(k_0, g, params)\n",
    "k_star = exact_fixed_point(params)\n",
    "\n",
    "fig, ax = plt.subplots()\n",
    "ax.plot(k_series, 'o')\n",
    "ax.plot([k_star] * len(k_series), 'k--')\n",
    "ax.set_ylim(0, 3)\n",
    "plt.show()"
   ]
  },
  {
   "cell_type": "markdown",
   "metadata": {},
   "source": [
    "Let’s see the output for a long time series."
   ]
  },
  {
   "cell_type": "code",
   "execution_count": 107,
   "metadata": {},
   "outputs": [
    {
     "data": {
      "text/plain": [
       "1.7846741842265788"
      ]
     },
     "execution_count": 107,
     "metadata": {},
     "output_type": "execute_result"
    }
   ],
   "source": [
    "k_series = compute_iterates(k_0, g, params, n=10_000)\n",
    "k_star_approx = k_series[-1]\n",
    "k_star_approx"
   ]
  },
  {
   "cell_type": "markdown",
   "metadata": {},
   "source": [
    "This is close to the true value."
   ]
  },
  {
   "cell_type": "code",
   "execution_count": 108,
   "metadata": {},
   "outputs": [
    {
     "data": {
      "text/plain": [
       "1.7846741842265788"
      ]
     },
     "execution_count": 108,
     "metadata": {},
     "output_type": "execute_result"
    }
   ],
   "source": [
    "k_star"
   ]
  },
  {
   "cell_type": "markdown",
   "metadata": {},
   "source": [
    "#### Newton’s Method\n",
    "In general, when applying Newton’s fixed point method to some function $g$, we start with a guess $x_0$ of the fixed point and then update by solving for the fixed point of a tangent line at $x_0$.\n",
    "\n",
    "To begin with, we recall that the first-order approximation of $g$ at $x_0$ (i.e., the first order Taylor approximation of $g$ at $x_0$) is the function\n",
    "\n",
    "$$\n",
    "\\begin{equation}\n",
    "\\hat g(x) \\approx g(x_0)+g'(x_0)(x-x_0)\n",
    "\\end{equation}\\tag{7.2}\n",
    "$$\n",
    "\n",
    "We solve for the fixed point of $\\hat g$ by calculating the $x_1$ that solves\n",
    "\n",
    "$$\n",
    "x_1=\\frac{g(x_0)-g'(x_0) x_0}{1-g'(x_0)}\n",
    "$$\n",
    "\n",
    "Generalising the process above, Newton’s fixed point method iterates on\n",
    "\n",
    "$$\n",
    "\\begin{equation}\n",
    "x_{t+1} = \\frac{g(x_t) - g'(x_t) x_t}{ 1 - g'(x_t) }, x_0 \\text{ given}\n",
    "\\end{equation}\\tag{7.3}\n",
    "$$\n",
    "\n",
    "To implement Newton’s method we observe that the derivative of the law of motion for capital (7.1) is\n",
    "\n",
    "$$\n",
    "\\begin{equation}\n",
    "g'(k) = \\alpha s A k^{\\alpha-1} + (1-\\delta)\n",
    "\\end{equation}\\tag{7.4}\n",
    "$$\n",
    "\n",
    "Let’s define this:"
   ]
  },
  {
   "cell_type": "code",
   "execution_count": 109,
   "metadata": {},
   "outputs": [],
   "source": [
    "def Dg(k, params):\n",
    "    A, s, alpha, delta = params\n",
    "    return alpha * A * s * k**(alpha-1) + (1 - delta)"
   ]
  },
  {
   "cell_type": "markdown",
   "metadata": {},
   "source": [
    "Here’s a function $q$ representing (7.3)."
   ]
  },
  {
   "cell_type": "code",
   "execution_count": 110,
   "metadata": {},
   "outputs": [],
   "source": [
    "def q(k, params):\n",
    "    return (g(k, params) - Dg(k, params) * k) / (1 - Dg(k, params))"
   ]
  },
  {
   "cell_type": "markdown",
   "metadata": {},
   "source": [
    "Now let’s plot some trajectories."
   ]
  },
  {
   "cell_type": "code",
   "execution_count": 111,
   "metadata": {},
   "outputs": [],
   "source": [
    "def plot_trajectories(params, \n",
    "                      k0_a=0.8,  # first initial condition\n",
    "                      k0_b=3.1,  # second initial condition\n",
    "                      n=20,      # length of time series\n",
    "                      fs=14):    # fontsize\n",
    "\n",
    "    _, axes = plt.subplots(2, 1, figsize=(10, 6))\n",
    "    ax1, ax2 = axes\n",
    "\n",
    "    ks1 = compute_iterates(k0_a, g, params, n)\n",
    "    ax1.plot(ks1, \"-o\", label=\"successive approximation\")\n",
    "\n",
    "    ks2 = compute_iterates(k0_b, g, params, n)\n",
    "    ax2.plot(ks2, \"-o\", label=\"successive approximation\")\n",
    "\n",
    "    ks3 = compute_iterates(k0_a, q, params, n)\n",
    "    ax1.plot(ks3, \"-o\", label=\"newton steps\")\n",
    "\n",
    "    ks4 = compute_iterates(k0_b, q, params, n)\n",
    "    ax2.plot(ks4, \"-o\", label=\"newton steps\")\n",
    "\n",
    "    for ax in axes:\n",
    "        ax.plot(k_star * np.ones(n), \"k--\")\n",
    "        ax.legend(fontsize=fs, frameon=False)\n",
    "        ax.set_ylim(0.6, 3.2)\n",
    "        ax.set_yticks((k_star,))\n",
    "        ax.set_yticklabels((\"$k^*$\",), fontsize=fs)\n",
    "        ax.set_xticks(np.linspace(0, 19, 20))\n",
    "        \n",
    "    plt.show()"
   ]
  },
  {
   "cell_type": "code",
   "execution_count": 112,
   "metadata": {},
   "outputs": [
    {
     "data": {
      "image/png": "[encoded data removed]",
      "text/plain": [
       "<Figure size 720x432 with 2 Axes>"
      ]
     },
     "metadata": {
      "needs_background": "light"
     },
     "output_type": "display_data"
    }
   ],
   "source": [
    "params = create_solow_params()\n",
    "plot_trajectories(params)"
   ]
  },
  {
   "cell_type": "markdown",
   "metadata": {},
   "source": [
    "We can see that Newton’s method converges faster than successive approximation!\n",
    "\n",
    "## Root-Finding in One Dimension\n",
    "\n",
    "In the previous section we computed fixed points. In fact Newton’s method is more commonly associated with the problem of finding zeros of functions. Let’s discuss this “root-finding” problem and then show how it is connected to the problem of finding fixed points.\n",
    "\n",
    "### Newton’s Method for Zeros\n",
    "Let’s suppose we want to find an $x$ such that $f(x)=0$ for some smooth function $f$ mapping real numbers to real numbers. Suppose we have a guess $x_0$ and we want to update it to a new point $x_1$.\n",
    "\n",
    "As a first step, we take the first-order approximation of $f$ around $x_0$:\n",
    "\n",
    "$$\n",
    "\\hat f(x) \\approx f\\left(x_0\\right)+f^{\\prime}\\left(x_0\\right)\\left(x-x_0\\right)\n",
    "$$\n",
    "\n",
    "Now we solve for the zero of $\\hat f$. In particular, we set $\\hat{f}(x_1) = 0$ and solve for $x_1$ to get\n",
    "\n",
    "$$\n",
    "x_1 = x_0 - \\frac{ f(x_0) }{ f'(x_0) }, x_0 \\text{ given}\n",
    "$$\n",
    "\n",
    "Generalizing the formula above, for one-dimensional zero-finding problems, Newton’s method iterates on\n",
    "\n",
    "$$\n",
    "\\begin{equation}\n",
    "x_{t+1} = x_t - \\frac{ f(x_t) }{ f'(x_t) }, x_0 \\text{ given}\n",
    "\\end{equation}\\tag{7.5}\n",
    "$$\n",
    "\n",
    "The following code implements the iteration (7.5)"
   ]
  },
  {
   "cell_type": "code",
   "execution_count": 113,
   "metadata": {},
   "outputs": [],
   "source": [
    "def newton(f, Df, x_0, tol=1e-7, max_iter=100_000):\n",
    "    x = x_0\n",
    "\n",
    "    # Implement the zero-finding formula\n",
    "    def q(x):\n",
    "        return x - f(x) / Df(x)\n",
    "\n",
    "    error = tol + 1\n",
    "    n = 0\n",
    "    while error > tol:\n",
    "        n += 1\n",
    "        if(n > max_iter):\n",
    "            raise Exception('Max iteration reached without convergence')\n",
    "        y = q(x)\n",
    "        error = np.abs(x - y)\n",
    "        x = y\n",
    "        print(f'iteration {n}, error = {error:.5f}')\n",
    "    return x"
   ]
  },
  {
   "cell_type": "markdown",
   "metadata": {},
   "source": [
    "Numerous libraries implement Newton’s method in one dimension, including SciPy, so the code is just for illustrative purposes.\n",
    "\n",
    "(That said, when we want to apply Newton’s method using techniques such as automatic differentiation or GPU acceleration, it will be helpful to know how to implement Newton’s method ourselves.)\n",
    "\n",
    "### Application to Finding Fixed Points\n",
    "\n",
    "Now consider again the Solow fixed-point calculation, where we solve for $k$ satisfying $g(k) = k$. We can convert to this to a zero-finding problem by setting $f(x) := g(x)-x$. Any zero of $f$ is clearly a fixed point of $g$.\n",
    "\n",
    "Let’s apply this idea to the Solow problem"
   ]
  },
  {
   "cell_type": "code",
   "execution_count": 114,
   "metadata": {},
   "outputs": [
    {
     "name": "stdout",
     "output_type": "stream",
     "text": [
      "iteration 1, error = 1.27209\n",
      "iteration 2, error = 0.28180\n",
      "iteration 3, error = 0.00561\n",
      "iteration 4, error = 0.00000\n",
      "iteration 5, error = 0.00000\n"
     ]
    }
   ],
   "source": [
    "params = create_solow_params()\n",
    "k_star_approx_newton = newton(f=lambda x: g(x, params) - x,\n",
    "                              Df=lambda x: Dg(x, params) - 1,\n",
    "                              x_0=0.8)"
   ]
  },
  {
   "cell_type": "code",
   "execution_count": 115,
   "metadata": {},
   "outputs": [
    {
     "data": {
      "text/plain": [
       "1.7846741842265788"
      ]
     },
     "execution_count": 115,
     "metadata": {},
     "output_type": "execute_result"
    }
   ],
   "source": [
    "k_star_approx_newton"
   ]
  },
  {
   "cell_type": "markdown",
   "metadata": {},
   "source": [
    "The result confirms the descent we saw in the graphs above: a very accurate result is reached with only 5 iterations."
   ]
  },
  {
   "cell_type": "markdown",
   "metadata": {},
   "source": [
    "## Multivariate Newton’s Method\n",
    "In this section:\n",
    "- we introduce a **two-good problem**\n",
    "- present a visualization of the problem\n",
    "- solve for the equilibrium of the two-good market using both a zero finder in `SciPy` and Newton’s method. \n",
    "\n",
    "We then expand the idea to a larger market with 5,000 goods and compare the performance of the two methods again. We will see a significant performance gain when using Netwon’s method.\n",
    "\n",
    "### A Two Goods Market Equilibrium\n",
    "\n",
    "Let’s start by computing the market equilibrium of a two-good problem. We consider a market for two related products, good 0 and good 1, with price vector $p = (p_0, p_1)$ \n",
    "\n",
    "Supply of good $i$ at price $p$,\n",
    "\n",
    "$$\n",
    "q^s_i (p) = b_i \\sqrt{p_i}\n",
    "$$\n",
    "\n",
    "Demand of good $i$ at price $p$ is,\n",
    "\n",
    "$$\n",
    "q^d_i (p) = \\exp(-(a_{i0} p_0 + a_{i1} p_1)) + c_i\n",
    "$$\n",
    "\n",
    "Here $c_i,b_i$, and $a_{ij}$ are parameters. For example, the two goods might be computer components that are typically used together, in which case they are complements. Hence demand depends on the price of both components.\n",
    "\n",
    "The excess demand function is,\n",
    "\n",
    "$$\n",
    "e_i(p) = q^d_i(p) - q^s_i(p), i = 0, 1\n",
    "$$\n",
    "\n",
    "An equilibrium price vector $p^*$ satisfies $e_i(p^*) = 0$. We set\n",
    "\n",
    "$$\n",
    "\\begin{split}\n",
    "A = \\begin{pmatrix}\n",
    "            a_{00} & a_{01} \\\\\n",
    "            a_{10} & a_{11}\n",
    "        \\end{pmatrix},\n",
    "    b = \\begin{pmatrix}\n",
    "            b_0 \\\\\n",
    "            b_1\n",
    "        \\end{pmatrix}\n",
    "        \\text{ and } \n",
    "    c = \\begin{pmatrix}\n",
    "            c_0 \\\\\n",
    "            c_1\n",
    "        \\end{pmatrix}\n",
    "\\end{split}\n",
    "$$\n",
    "\n",
    "for this particular question."
   ]
  },
  {
   "cell_type": "markdown",
   "metadata": {},
   "source": [
    "#### A Graphical Exploration\n",
    "Since our problem is only two-dimensional, we can use graphical analysis to visualize and help understand the problem. Our first step is to define the excess demand function\n",
    "\n",
    "$$\n",
    "\\begin{split}\n",
    "e(p) = \n",
    "    \\begin{pmatrix}\n",
    "    e_0(p) \\\\\n",
    "    e_1(p)\n",
    "    \\end{pmatrix}\n",
    "\\end{split}\n",
    "$$\n",
    "\n",
    "The function below calculates the excess demand for given parameters"
   ]
  },
  {
   "cell_type": "code",
   "execution_count": 116,
   "metadata": {},
   "outputs": [],
   "source": [
    "def e(p, A, b, c):\n",
    "    return np.exp(- A @ p) + c - b * np.sqrt(p)"
   ]
  },
  {
   "cell_type": "markdown",
   "metadata": {},
   "source": [
    "Our default parameter values will be\n",
    "\n",
    "$$\n",
    "\\begin{split}\n",
    "A = \\begin{pmatrix}\n",
    "            0.5 & 0.4 \\\\\n",
    "            0.8 & 0.2\n",
    "        \\end{pmatrix},\n",
    "    b = \\begin{pmatrix}\n",
    "            1 \\\\\n",
    "            1\n",
    "        \\end{pmatrix}\n",
    "            \\text{ and }\n",
    "    c = \\begin{pmatrix}\n",
    "            1 \\\\\n",
    "            1\n",
    "        \\end{pmatrix}\n",
    "\\end{split}\n",
    "$$"
   ]
  },
  {
   "cell_type": "code",
   "execution_count": 117,
   "metadata": {},
   "outputs": [],
   "source": [
    "A = np.array([\n",
    "    [0.5, 0.4],\n",
    "    [0.8, 0.2]])\n",
    "b = np.ones(2)\n",
    "c = np.ones(2)"
   ]
  },
  {
   "cell_type": "markdown",
   "metadata": {},
   "source": [
    "At a price level of $p = (1, 0.5)$, the excess demand is"
   ]
  },
  {
   "cell_type": "code",
   "execution_count": 118,
   "metadata": {},
   "outputs": [
    {
     "name": "stdout",
     "output_type": "stream",
     "text": [
      "The excess demand for good 0 is 0.497 \n",
      "The excess demand for good 1 is 0.699\n"
     ]
    }
   ],
   "source": [
    "ex_demand = e((1.0, 0.5), A, b, c)\n",
    "\n",
    "print(f'The excess demand for good 0 is {ex_demand[0]:.3f} \\n'\n",
    "      f'The excess demand for good 1 is {ex_demand[1]:.3f}')"
   ]
  },
  {
   "cell_type": "markdown",
   "metadata": {},
   "source": [
    "Next we plot the two functions $e_0$ and $e_1$ on a grid of $(p_0, p_1)$ values, using contour surfaces and lines. We will use the following function to build the contour plots"
   ]
  },
  {
   "cell_type": "code",
   "execution_count": 119,
   "metadata": {},
   "outputs": [],
   "source": [
    "def plot_excess_demand(ax, good=0, grid_size=100, grid_max=4, surface=True):\n",
    "\n",
    "    # Create a 100x100 grid\n",
    "    p_grid = np.linspace(0, grid_max, grid_size)\n",
    "    z = np.empty((100, 100))\n",
    "\n",
    "    for i, p_1 in enumerate(p_grid):\n",
    "        for j, p_2 in enumerate(p_grid):\n",
    "            z[i, j] = e((p_1, p_2), A, b, c)[good]\n",
    "\n",
    "    if surface:\n",
    "        cs1 = ax.contourf(p_grid, p_grid, z.T, alpha=0.5)\n",
    "        plt.colorbar(cs1, ax=ax, format=\"%.6f\")\n",
    "\n",
    "    ctr1 = ax.contour(p_grid, p_grid, z.T, levels=[0.0])\n",
    "    ax.set_xlabel(\"$p_0$\")\n",
    "    ax.set_ylabel(\"$p_1$\")\n",
    "    ax.set_title(f'Excess Demand for Good {good}')\n",
    "    plt.clabel(ctr1, inline=1, fontsize=13)"
   ]
  },
  {
   "cell_type": "markdown",
   "metadata": {},
   "source": [
    "Here’s our plot of $e_0$:"
   ]
  },
  {
   "cell_type": "code",
   "execution_count": 120,
   "metadata": {},
   "outputs": [
    {
     "data": {
      "image/png": "[encoded data removed]",
      "text/plain": [
       "<Figure size 720x410.4 with 2 Axes>"
      ]
     },
     "metadata": {
      "needs_background": "light"
     },
     "output_type": "display_data"
    }
   ],
   "source": [
    "fig, ax = plt.subplots()\n",
    "plot_excess_demand(ax, good=0)\n",
    "plt.show()"
   ]
  },
  {
   "cell_type": "markdown",
   "metadata": {},
   "source": [
    "Here’s our plot of $e_1$:"
   ]
  },
  {
   "cell_type": "code",
   "execution_count": 121,
   "metadata": {},
   "outputs": [
    {
     "data": {
      "image/png": "[encoded data removed]",
      "text/plain": [
       "<Figure size 720x410.4 with 2 Axes>"
      ]
     },
     "metadata": {
      "needs_background": "light"
     },
     "output_type": "display_data"
    }
   ],
   "source": [
    "fig, ax = plt.subplots()\n",
    "plot_excess_demand(ax, good=1)\n",
    "plt.show()"
   ]
  },
  {
   "cell_type": "markdown",
   "metadata": {},
   "source": [
    "We see the black contour line of zero, which tells us when $e_i(p)=0$.\n",
    "\n",
    "For a price vector $p$ such that $e_i(p)=0$ we know that good $i$ is in equilibrium (demand equals supply). If these two contour lines cross at some price vector $p^*$, then $p^*$ is an equilibrium price vector."
   ]
  },
  {
   "cell_type": "code",
   "execution_count": 122,
   "metadata": {},
   "outputs": [
    {
     "data": {
      "image/png": "[encoded data removed]",
      "text/plain": [
       "<Figure size 720x410.4 with 1 Axes>"
      ]
     },
     "metadata": {
      "needs_background": "light"
     },
     "output_type": "display_data"
    }
   ],
   "source": [
    "fig, ax = plt.subplots(figsize=(10, 5.7))\n",
    "for good in (0, 1):\n",
    "    plot_excess_demand(ax, good=good, surface=False)\n",
    "plt.show()"
   ]
  },
  {
   "cell_type": "markdown",
   "metadata": {},
   "source": [
    "It seems there is an equilibrium close to $p = (1.6, 1.5)$.\n",
    "\n",
    "#### Using a Multidimensional Root Finder\n",
    "To solve for $p^*$ more precisely, we use a zero-finding algorithm from `scipy.optimize`. We supply $p = (1, 1)$ as our initial guess."
   ]
  },
  {
   "cell_type": "code",
   "execution_count": 123,
   "metadata": {},
   "outputs": [],
   "source": [
    "init_p = np.ones(2)"
   ]
  },
  {
   "cell_type": "markdown",
   "metadata": {},
   "source": [
    "This uses the [modified Powell method](https://docs.scipy.org/doc/scipy/reference/optimize.root-hybr.html#optimize-root-hybr) to find the zero"
   ]
  },
  {
   "cell_type": "code",
   "execution_count": 124,
   "metadata": {},
   "outputs": [
    {
     "name": "stdout",
     "output_type": "stream",
     "text": [
      "CPU times: user 251 µs, sys: 130 µs, total: 381 µs\n",
      "Wall time: 383 µs\n"
     ]
    }
   ],
   "source": [
    "%%time\n",
    "solution = root(lambda p: e(p, A, b, c), init_p, method='hybr')"
   ]
  },
  {
   "cell_type": "markdown",
   "metadata": {},
   "source": [
    "Here’s the resulting value:"
   ]
  },
  {
   "cell_type": "code",
   "execution_count": 125,
   "metadata": {},
   "outputs": [
    {
     "data": {
      "text/plain": [
       "array([1.57080182, 1.46928838])"
      ]
     },
     "execution_count": 125,
     "metadata": {},
     "output_type": "execute_result"
    }
   ],
   "source": [
    "p = solution.x\n",
    "p"
   ]
  },
  {
   "cell_type": "markdown",
   "metadata": {},
   "source": [
    "This looks close to our guess from observing the figure. We can plug it back into $e$ to test that $e(p) \\approx 0$:"
   ]
  },
  {
   "cell_type": "code",
   "execution_count": 126,
   "metadata": {},
   "outputs": [
    {
     "data": {
      "text/plain": [
       "2.0383694732117874e-13"
      ]
     },
     "execution_count": 126,
     "metadata": {},
     "output_type": "execute_result"
    }
   ],
   "source": [
    "np.max(np.abs(e(p, A, b, c)))"
   ]
  },
  {
   "cell_type": "markdown",
   "metadata": {},
   "source": [
    "This is indeed a very small error.\n",
    "\n",
    "####  Adding Gradient Information\n",
    "In many cases, for zero-finding algorithms applied to smooth functions, supplying the [Jacobian](https://en.wikipedia.org/wiki/Jacobian_matrix_and_determinant) of the function leads to better convergence properties. Here we manually calculate the elements of the Jacobian\n",
    "\n",
    "$$\n",
    "\\begin{split}\n",
    "J(p) = \n",
    "    \\begin{pmatrix}\n",
    "        \\frac{\\partial e_0}{\\partial p_0}(p) & \\frac{\\partial e_0}{\\partial p_1}(p) \\\\\n",
    "        \\frac{\\partial e_1}{\\partial p_0}(p) & \\frac{\\partial e_1}{\\partial p_1}(p)\n",
    "    \\end{pmatrix}\n",
    "\\end{split}\n",
    "$$"
   ]
  },
  {
   "cell_type": "code",
   "execution_count": 127,
   "metadata": {},
   "outputs": [],
   "source": [
    "def jacobian_e(p, A, b, c):\n",
    "    p_0, p_1 = p\n",
    "    a_00, a_01 = A[0, :]\n",
    "    a_10, a_11 = A[1, :]\n",
    "    j_00 = -a_00 * np.exp(-a_00 * p_0) - (b[0]/2) * p_0**(-1/2)\n",
    "    j_01 = -a_01 * np.exp(-a_01 * p_1)\n",
    "    j_10 = -a_10 * np.exp(-a_10 * p_0)\n",
    "    j_11 = -a_11 * np.exp(-a_11 * p_1) - (b[1]/2) * p_1**(-1/2)\n",
    "    J = [[j_00, j_01],\n",
    "         [j_10, j_11]]\n",
    "    return np.array(J)"
   ]
  },
  {
   "cell_type": "code",
   "execution_count": 128,
   "metadata": {},
   "outputs": [
    {
     "name": "stdout",
     "output_type": "stream",
     "text": [
      "CPU times: user 610 µs, sys: 136 µs, total: 746 µs\n",
      "Wall time: 871 µs\n"
     ]
    }
   ],
   "source": [
    "%%time\n",
    "solution = root(lambda p: e(p, A, b, c),\n",
    "                init_p, \n",
    "                jac=lambda p: jacobian_e(p, A, b, c), \n",
    "                method='hybr')"
   ]
  },
  {
   "cell_type": "markdown",
   "metadata": {},
   "source": [
    "Now the solution is even more accurate (although, in this low-dimensional problem, the difference is quite small):"
   ]
  },
  {
   "cell_type": "code",
   "execution_count": 129,
   "metadata": {},
   "outputs": [
    {
     "data": {
      "text/plain": [
       "1.3322676295501878e-15"
      ]
     },
     "execution_count": 129,
     "metadata": {},
     "output_type": "execute_result"
    }
   ],
   "source": [
    "p = solution.x\n",
    "np.max(np.abs(e(p, A, b, c)))"
   ]
  },
  {
   "cell_type": "markdown",
   "metadata": {},
   "source": [
    "#### Using Newton’s Method\n",
    "Now let’s use Newton’s method to compute the equilibrium price using the multivariate version of Newton’s method\n",
    "\n",
    "$$\n",
    "\\begin{equation}\n",
    "p_{n+1} = p_n - J_e(p_n)^{-1} e(p_n)\n",
    "\\end{equation}\\tag{7.6}\n",
    "$$\n",
    "\n",
    "This is a multivariate version of (7.5). (Here $J_e(p_n)$ is the Jacobian of $e$ evaluated at $p_n$.) The iteration starts from some initial guess of the price vector $p_0$. Here, instead of coding Jacobian by hand, We use the `jacobian()` function in the autograd library to auto-differentiate and calculate the Jacobian.\n",
    "\n",
    "With only slight modification, we can generalize [our previous attempt](https://python.quantecon.org/newton_method.html#first-newton-attempt) to multi-dimensional problems"
   ]
  },
  {
   "cell_type": "code",
   "execution_count": 130,
   "metadata": {},
   "outputs": [],
   "source": [
    "def newton(f, x_0, tol=1e-5, max_iter=10):\n",
    "    x = x_0\n",
    "    q = lambda x: x - np.linalg.solve(jacobian(f)(x), f(x))\n",
    "    error = tol + 1\n",
    "    n = 0\n",
    "    while error > tol:\n",
    "        n+=1\n",
    "        if(n > max_iter):\n",
    "            raise Exception('Max iteration reached without convergence')\n",
    "        y = q(x)\n",
    "        if(any(np.isnan(y))):\n",
    "            raise Exception('Solution not found with NaN generated')\n",
    "        error = np.linalg.norm(x - y)\n",
    "        x = y\n",
    "        print(f'iteration {n}, error = {error:.5f}')\n",
    "    print('\\n' + f'Result = {x} \\n')\n",
    "    return x"
   ]
  },
  {
   "cell_type": "code",
   "execution_count": 131,
   "metadata": {},
   "outputs": [],
   "source": [
    "def e(p, A, b, c):\n",
    "    return np.exp(-np.dot(A, p)) + c - b * np.sqrt(p)"
   ]
  },
  {
   "cell_type": "markdown",
   "metadata": {},
   "source": [
    "We find the algorithm terminates in 4 steps"
   ]
  },
  {
   "cell_type": "code",
   "execution_count": 132,
   "metadata": {},
   "outputs": [
    {
     "name": "stdout",
     "output_type": "stream",
     "text": [
      "iteration 1, error = 0.62515\n",
      "iteration 2, error = 0.11152\n",
      "iteration 3, error = 0.00258\n",
      "iteration 4, error = 0.00000\n",
      "\n",
      "Result = [1.57080182 1.46928838] \n",
      "\n",
      "CPU times: user 6.55 ms, sys: 2.25 ms, total: 8.8 ms\n",
      "Wall time: 9.71 ms\n"
     ]
    }
   ],
   "source": [
    "%%time\n",
    "p = newton(lambda p: e(p, A, b, c), init_p)"
   ]
  },
  {
   "cell_type": "code",
   "execution_count": 133,
   "metadata": {},
   "outputs": [
    {
     "data": {
      "text/plain": [
       "1.461053500406706e-13"
      ]
     },
     "execution_count": 133,
     "metadata": {},
     "output_type": "execute_result"
    }
   ],
   "source": [
    "np.max(np.abs(e(p, A, b, c)))"
   ]
  },
  {
   "cell_type": "markdown",
   "metadata": {},
   "source": [
    "The result is very accurate.\n",
    "\n",
    "With the larger overhead, the speed is not better than the optimized scipy function.\n",
    "\n",
    "### A High-Dimensional Problem\n",
    "Our next step is to investigate a large market with 300 goods. A JAX version of this section using GPU accelerated linear algebra and automatic differentiation is available [here](https://jax.quantecon.org/newtons_method.html#application)\n",
    "\n",
    "The excess demand function is essentially the same, but now the matrix $A$ is $300 \\times 300$ and the parameter vectors $b$ and $c$ are $300 \\times 1$."
   ]
  },
  {
   "cell_type": "code",
   "execution_count": 134,
   "metadata": {},
   "outputs": [],
   "source": [
    "dim = 300\n",
    "np.random.seed(123)\n",
    "\n",
    "# Create a random matrix A and normalize the rows to sum to one\n",
    "A = np.random.rand(dim, dim)\n",
    "A = np.asarray(A)\n",
    "s = np.sum(A, axis=0)\n",
    "A = A / s\n",
    "\n",
    "# Set up b and c\n",
    "b = np.ones(dim)\n",
    "c = np.ones(dim)"
   ]
  },
  {
   "cell_type": "markdown",
   "metadata": {},
   "source": [
    "Here’s our initial condition"
   ]
  },
  {
   "cell_type": "code",
   "execution_count": 135,
   "metadata": {},
   "outputs": [],
   "source": [
    "init_p = np.ones(dim)"
   ]
  },
  {
   "cell_type": "code",
   "execution_count": 136,
   "metadata": {},
   "outputs": [
    {
     "name": "stdout",
     "output_type": "stream",
     "text": [
      "iteration 1, error = 7.36020\n",
      "iteration 2, error = 1.25137\n",
      "iteration 3, error = 0.02699\n",
      "iteration 4, error = 0.00001\n",
      "iteration 5, error = 0.00000\n",
      "\n",
      "Result = [1.50008881 1.50520309 1.46366895 1.59732835 1.4615282  1.493387\n",
      " 1.4914106  1.53088991 1.509726   1.48691125 1.48525022 1.48935972\n",
      " 1.4923129  1.51169323 1.53683456 1.49714603 1.5016508  1.46302068\n",
      " 1.50659543 1.50953186 1.46981721 1.47008004 1.49423048 1.48221507\n",
      " 1.55611139 1.50472786 1.48867018 1.50320549 1.54131864 1.50581115\n",
      " 1.48317812 1.4830224  1.53258066 1.46330152 1.54993025 1.52134185\n",
      " 1.50991106 1.47496881 1.50316305 1.52922012 1.53699915 1.52068302\n",
      " 1.48344813 1.52188706 1.50415352 1.46362975 1.45681613 1.48853182\n",
      " 1.45522959 1.49250777 1.47562528 1.47204102 1.47605293 1.48066869\n",
      " 1.48194008 1.50959921 1.44077515 1.48657036 1.53725623 1.51998716\n",
      " 1.57086762 1.47305643 1.54312544 1.48234037 1.51765705 1.44155624\n",
      " 1.49086256 1.48854777 1.4878681  1.50650049 1.49127147 1.46683953\n",
      " 1.47189255 1.54644589 1.53974455 1.44412948 1.47509458 1.53657182\n",
      " 1.49488234 1.46482293 1.55206088 1.46379569 1.55990509 1.53620442\n",
      " 1.48380416 1.52046529 1.50610786 1.49345772 1.5034548  1.49187407\n",
      " 1.48384677 1.51246371 1.48623054 1.54535708 1.49490191 1.45743862\n",
      " 1.53869395 1.49103721 1.49436472 1.47635434 1.46246588 1.46481139\n",
      " 1.48489466 1.49744884 1.49588072 1.47195189 1.55513904 1.47446291\n",
      " 1.50149425 1.51409638 1.4539354  1.52029845 1.50987369 1.54535353\n",
      " 1.49059062 1.49776766 1.51902697 1.43610646 1.46280002 1.52330969\n",
      " 1.4973562  1.44762477 1.50082228 1.44338657 1.51316896 1.48806317\n",
      " 1.46233141 1.49776953 1.52673703 1.50440628 1.48589041 1.50428293\n",
      " 1.48879144 1.47438696 1.49633296 1.48917088 1.49286197 1.50752825\n",
      " 1.51136609 1.51086372 1.51877556 1.4519465  1.4890675  1.45663688\n",
      " 1.51225068 1.49293694 1.50105598 1.48851738 1.4943414  1.47743341\n",
      " 1.4910396  1.49621676 1.4562243  1.51200338 1.51326914 1.49402932\n",
      " 1.5065676  1.460821   1.5106495  1.50095123 1.49379879 1.47351074\n",
      " 1.4719145  1.5288799  1.44306427 1.4910549  1.50011056 1.51463743\n",
      " 1.53041213 1.55351065 1.54561504 1.54785075 1.49892726 1.50949975\n",
      " 1.48750895 1.52932863 1.48380547 1.50734239 1.49734511 1.49492644\n",
      " 1.4793956  1.52282216 1.4373163  1.48605072 1.4969342  1.51033184\n",
      " 1.48462752 1.47893662 1.48982658 1.48167457 1.53173561 1.50553535\n",
      " 1.55067364 1.53099225 1.49579072 1.51988663 1.51514416 1.51491301\n",
      " 1.47230064 1.47606928 1.51070933 1.49885934 1.51784679 1.49340486\n",
      " 1.44852241 1.50087528 1.46624795 1.50481995 1.46177872 1.52532413\n",
      " 1.48555613 1.47239752 1.53999233 1.46878399 1.48975885 1.49512359\n",
      " 1.46680602 1.48789871 1.49247665 1.54418962 1.5146806  1.5469386\n",
      " 1.46345204 1.4521894  1.52136897 1.47640764 1.49977753 1.50892383\n",
      " 1.49244087 1.45250012 1.49423515 1.50262364 1.46614689 1.49077705\n",
      " 1.47905795 1.50554414 1.46173454 1.48309742 1.4921077  1.53009515\n",
      " 1.49803893 1.58475513 1.46665337 1.52231058 1.53271047 1.47980361\n",
      " 1.47114405 1.48034389 1.46251238 1.48314928 1.50586644 1.47953561\n",
      " 1.51302855 1.48423063 1.52491157 1.52298162 1.54082793 1.48340841\n",
      " 1.48440148 1.49972157 1.5400779  1.53271398 1.47831336 1.5483195\n",
      " 1.54766159 1.48928828 1.45609358 1.55137011 1.52177844 1.49335157\n",
      " 1.48539533 1.49530761 1.50763662 1.475699   1.49767924 1.50343122\n",
      " 1.4863946  1.47573634 1.50495073 1.50572614 1.49180115 1.49858168\n",
      " 1.51091056 1.53947761 1.50016102 1.4819656  1.52056931 1.42902423\n",
      " 1.52881588 1.52658952 1.47453326 1.48910649 1.51426    1.45761901\n",
      " 1.50111482 1.5005605  1.47978545 1.48695182 1.54637252 1.52618254] \n",
      "\n",
      "CPU times: user 673 ms, sys: 70 ms, total: 743 ms\n",
      "Wall time: 1.17 s\n"
     ]
    }
   ],
   "source": [
    "%%time\n",
    "p = newton(lambda p: e(p, A, b, c), init_p)"
   ]
  },
  {
   "cell_type": "code",
   "execution_count": 137,
   "metadata": {},
   "outputs": [
    {
     "data": {
      "text/plain": [
       "4.440892098500626e-16"
      ]
     },
     "execution_count": 137,
     "metadata": {},
     "output_type": "execute_result"
    }
   ],
   "source": [
    "np.max(np.abs(e(p, A, b, c)))"
   ]
  },
  {
   "cell_type": "markdown",
   "metadata": {},
   "source": [
    "With the same tolerance, we compare the runtime and accuracy of Newton’s method to SciPy’s `root` function"
   ]
  },
  {
   "cell_type": "code",
   "execution_count": 138,
   "metadata": {},
   "outputs": [
    {
     "name": "stdout",
     "output_type": "stream",
     "text": [
      "CPU times: user 253 ms, sys: 28.3 ms, total: 281 ms\n",
      "Wall time: 390 ms\n"
     ]
    }
   ],
   "source": [
    "%%time\n",
    "solution = root(lambda p: e(p, A, b, c),\n",
    "                init_p, \n",
    "                jac=lambda p: jacobian(e)(p, A, b, c), \n",
    "                method='hybr',\n",
    "                tol=1e-5)"
   ]
  },
  {
   "cell_type": "code",
   "execution_count": 139,
   "metadata": {},
   "outputs": [
    {
     "data": {
      "text/plain": [
       "9.145363066842549e-08"
      ]
     },
     "execution_count": 139,
     "metadata": {},
     "output_type": "execute_result"
    }
   ],
   "source": [
    "p = solution.x\n",
    "np.max(np.abs(e(p, A, b, c)))"
   ]
  },
  {
   "cell_type": "markdown",
   "metadata": {},
   "source": [
    "## Exercises\n",
    "\n",
    "**Exercise 7.1**\n",
    "\n",
    "Consider a three-dimensional extension of the Solow fixed point problem with\n",
    "\n",
    "$$\n",
    "A = \\begin{pmatrix}\n",
    "            2 & 3 & 3 \\\\\n",
    "            2 & 4 & 2 \\\\\n",
    "            1 & 5 & 1 \\\\\n",
    "        \\end{pmatrix},\n",
    "            \\quad\n",
    "s = 0.2, \\quad α = 0.5, \\quad δ = 0.8\n",
    "$$\n",
    "\n",
    "As before the law of motion is\n",
    "\n",
    "$$\n",
    "k_{t+1} = g(k_t) \\quad \\text{where} \\quad\n",
    "    g(k) := sAk^\\alpha + (1-\\delta) k\n",
    "$$\n",
    "\n",
    "Solve for the fixed point using Newton’s method with the following initial values:\n",
    "\n",
    "$$\n",
    "\\begin{aligned}\n",
    "    k1_{0} &= (1, 1, 1) \\\\\n",
    "    k2_{0} &= (3, 5, 5) \\\\\n",
    "    k3_{0} &= (50, 50, 50)\n",
    "\\end{aligned}\n",
    "$$"
   ]
  },
  {
   "cell_type": "code",
   "execution_count": 140,
   "metadata": {},
   "outputs": [
    {
     "name": "stdout",
     "output_type": "stream",
     "text": [
      "iteration 1, error = 50.49630\n",
      "iteration 2, error = 41.10937\n",
      "iteration 3, error = 4.29413\n",
      "iteration 4, error = 0.38543\n",
      "iteration 5, error = 0.00544\n",
      "iteration 6, error = 0.00000\n",
      "\n",
      "Result = [3.84058108 3.87071771 3.41091933] \n",
      "\n",
      "iteration 1, error = 2.07011\n",
      "iteration 2, error = 0.12642\n",
      "iteration 3, error = 0.00060\n",
      "iteration 4, error = 0.00000\n",
      "\n",
      "Result = [3.84058108 3.87071771 3.41091933] \n",
      "\n",
      "iteration 1, error = 73.00943\n",
      "iteration 2, error = 6.49379\n",
      "iteration 3, error = 0.68070\n",
      "iteration 4, error = 0.01620\n",
      "iteration 5, error = 0.00001\n",
      "iteration 6, error = 0.00000\n",
      "\n",
      "Result = [3.84058108 3.87071771 3.41091933] \n",
      "\n"
     ]
    }
   ],
   "source": [
    "# Solution to Exercise 7.1\n",
    "\n",
    "import numpy as np\n",
    "from collections import namedtuple\n",
    "\n",
    "\n",
    "SolowParameters = namedtuple(\"SolowParameters\", ('A', 's', 'alpha', 'delta'))\n",
    "\n",
    "def create_solow_params(A=2.0, s=0.3, alpha=0.3, delta=0.4):\n",
    "    \"Creates a Solow model parameterization with default values.\"\n",
    "    return SolowParameters(A=A, s=s, alpha=alpha, delta=delta)\n",
    "\n",
    "def g(k, params):\n",
    "    A, s, alpha, delta = params\n",
    "    return s * A @ k**alpha + (1 - delta) * k\n",
    "\n",
    "def Dg(k, params):\n",
    "    A, s, alpha, delta = params\n",
    "\n",
    "    m = len(k)\n",
    "\n",
    "    DAk = A @ np.diag(alpha * k**(alpha-1))\n",
    "    Dk = np.diag([1] * m)\n",
    "\n",
    "    return  s * DAk + (1 - delta) * Dk\n",
    "\n",
    "def newton(f, Df, x_0, tol=1e-5, max_iter=10):\n",
    "    x = x_0\n",
    "    q = lambda x: x - np.linalg.solve(Df(x), f(x))\n",
    "    error = tol + 1\n",
    "    n = 0\n",
    "    while error > tol:\n",
    "        n+=1\n",
    "        if(n > max_iter):\n",
    "            raise Exception('Max iteration reached without convergence')\n",
    "        y = q(x)\n",
    "        if(any(np.isnan(y))):\n",
    "            raise Exception('Solution not found with NaN generated')\n",
    "        error = np.linalg.norm(x - y)\n",
    "        x = y\n",
    "        print(f'iteration {n}, error = {error:.5f}')\n",
    "    print('\\n' + f'Result = {x} \\n')\n",
    "    return x\n",
    "\n",
    "A = np.array([[2,3,3], [2,4,2], [1,5,1]])\n",
    "s = .2\n",
    "alpha = .5\n",
    "delta = .8\n",
    "\n",
    "params = create_solow_params(A=A, s=s, alpha=alpha, delta=delta)\n",
    "\n",
    "init_vals = [ np.array([1,1,1]),\n",
    "         np.array([3,5,5]),\n",
    "         np.array([50,50,50]),]\n",
    "\n",
    "\n",
    "for init_val in init_vals:\n",
    "    newton(f=lambda x: g(x, params)-x,\n",
    "           Df=lambda x: Dg(x, params)-np.diag([1,1,1]),\n",
    "           x_0=init_val)"
   ]
  },
  {
   "cell_type": "markdown",
   "metadata": {},
   "source": [
    "**Exercise 7.2**\n",
    "\n",
    "In this exercise, let’s try different initial values and check how Newton’s method responds to different starting points.\n",
    "\n",
    "Let’s define a three-good problem with the following default values:\n",
    "\n",
    "$$\n",
    "A = \\begin{pmatrix}\n",
    "            0.2 & 0.1 & 0.7 \\\\\n",
    "            0.3 & 0.2 & 0.5 \\\\\n",
    "            0.1 & 0.8 & 0.1 \\\\\n",
    "        \\end{pmatrix},\n",
    "            \\qquad \n",
    "b = \\begin{pmatrix}\n",
    "            1 \\\\\n",
    "            1 \\\\\n",
    "            1\n",
    "        \\end{pmatrix}\n",
    "    \\qquad \\text{and} \\qquad\n",
    "c = \\begin{pmatrix}\n",
    "            1 \\\\\n",
    "            1 \\\\\n",
    "            1\n",
    "        \\end{pmatrix}\n",
    "$$\n",
    "\n",
    "For this exercise, use the following extreme price vectors as initial values:\n",
    "\n",
    "$$\n",
    "\\begin{aligned}\n",
    "    p1_{0} &= (5, 5, 5) \\\\\n",
    "    p2_{0} &= (1, 1, 1) \\\\\n",
    "    p3_{0} &= (4.5, 0.1, 4)\n",
    "\\end{aligned}\n",
    "$$\n",
    "\n",
    "Set the tolerance to $0.0$ for more accurate output."
   ]
  },
  {
   "cell_type": "code",
   "execution_count": 148,
   "metadata": {},
   "outputs": [
    {
     "name": "stdout",
     "output_type": "stream",
     "text": [
      "iteration 1, error = 9.24381\n",
      "failed \n",
      "\n",
      "iteration 1, error = 0.73419\n",
      "iteration 2, error = 0.12472\n",
      "iteration 3, error = 0.00269\n",
      "iteration 4, error = 0.00000\n",
      "iteration 5, error = 0.00000\n",
      "iteration 6, error = 0.00000\n",
      "\n",
      "Result = [1.49744442 1.49744442 1.49744442] \n",
      "\n",
      "iteration 1, error = 4.89202\n",
      "iteration 2, error = 1.21206\n",
      "iteration 3, error = 0.69421\n",
      "iteration 4, error = 0.16895\n",
      "iteration 5, error = 0.00521\n",
      "iteration 6, error = 0.00000\n",
      "iteration 7, error = 0.00000\n",
      "iteration 8, error = 0.00000\n",
      "\n",
      "Result = [1.49744442 1.49744442 1.49744442] \n",
      "\n"
     ]
    }
   ],
   "source": [
    "# Solution to Exercise 7.2\n",
    "from autograd import jacobian\n",
    "import autograd.numpy as np\n",
    "\n",
    "\n",
    "\n",
    "def newton(f, x_0, tol=1e-15, max_iter=15):\n",
    "    x = x_0\n",
    "    q = lambda x: x - np.linalg.solve(jacobian(f)(x), f(x))\n",
    "    error = tol + 1\n",
    "    n = 0\n",
    "    while error > tol:\n",
    "        n+=1\n",
    "        if(n > max_iter):\n",
    "            raise Exception('Max iteration reached without convergence')\n",
    "        y = q(x)\n",
    "        if(any(np.isnan(y))):\n",
    "            raise Exception('Solution not found with NaN generated')\n",
    "        error = np.linalg.norm(x - y)\n",
    "        x = y\n",
    "        print(f'iteration {n}, error = {error:.5f}')\n",
    "    print('\\n' + f'Result = {x} \\n')\n",
    "    return x\n",
    "\n",
    "def e(p, A, b, c):\n",
    "    return np.exp(- np.dot(A, p)) + c - b * np.sqrt(p)\n",
    "\n",
    "\n",
    "dim = 3\n",
    "A = np.array([[0.2, 0.1, 0.7], \n",
    "              [0.3, 0.2, 0.5],\n",
    "              [0.1, 0.8, 0.1]])\n",
    "b = np.ones(dim)\n",
    "c = np.ones(dim)\n",
    "\n",
    "init_vals = [np.array([5.0, 5.0, 5.0]),\n",
    "             np.array([1.0, 1.0, 1.0]),\n",
    "             np.array([4.5, 0.1, 4])]\n",
    "\n",
    "\n",
    "for init_val in init_vals:\n",
    "    try:\n",
    "        newton(lambda p: e(p, A, b, c), init_val)\n",
    "    except:\n",
    "        print('failed','\\n')\n",
    "\n"
   ]
  },
  {
   "cell_type": "code",
   "execution_count": null,
   "metadata": {},
   "outputs": [],
   "source": []
  },
  {
   "cell_type": "code",
   "execution_count": null,
   "metadata": {},
   "outputs": [],
   "source": []
  }
 ],
 "metadata": {
  "kernelspec": {
   "display_name": "Python 3",
   "language": "python",
   "name": "python3"
  },
  "language_info": {
   "codemirror_mode": {
    "name": "ipython",
    "version": 3
   },
   "file_extension": ".py",
   "mimetype": "text/x-python",
   "name": "python",
   "nbconvert_exporter": "python",
   "pygments_lexer": "ipython3",
   "version": "3.7.0"
  }
 },
 "nbformat": 4,
 "nbformat_minor": 2
}
