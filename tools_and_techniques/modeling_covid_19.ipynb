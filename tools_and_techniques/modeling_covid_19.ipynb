{
 "cells": [
  {
   "cell_type": "markdown",
   "metadata": {},
   "source": [
    "# MODELING COVID 19\n",
    "\n",
    "## Contents\n",
    "- Modeling COVID 19\n",
    "    - Overview\n",
    "    - The SIR Model\n",
    "    - Implementation\n",
    "    - Experiments\n",
    "    - Ending Lockdown"
   ]
  },
  {
   "cell_type": "markdown",
   "metadata": {},
   "source": []
  }
 ],
 "metadata": {
  "language_info": {
   "name": "python"
  }
 },
 "nbformat": 4,
 "nbformat_minor": 2
}
